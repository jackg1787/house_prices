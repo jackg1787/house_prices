{
 "cells": [
  {
   "cell_type": "markdown",
   "id": "409c526e",
   "metadata": {},
   "source": [
    "## Imports etc"
   ]
  },
  {
   "cell_type": "code",
   "execution_count": 52,
   "id": "fafcd90d",
   "metadata": {
    "ExecuteTime": {
     "end_time": "2022-06-21T15:18:50.614440Z",
     "start_time": "2022-06-21T15:18:50.529787Z"
    }
   },
   "outputs": [],
   "source": [
    "from sklearn.preprocessing import StandardScaler\n",
    "from sklearn.impute import SimpleImputer\n",
    "from sklearn.feature_selection import  mutual_info_regression, SelectKBest\n",
    "from sklearn.model_selection import train_test_split\n",
    "\n",
    "import pandas as pd\n",
    "import matplotlib.pyplot as plt\n",
    "import sys \n",
    "import os\n",
    "sys.path.append(os.path.abspath(\"../src\"))\n",
    "\n",
    "import functions as fnc\n",
    "\n",
    "plt.style.use('tableau-colorblind10')"
   ]
  },
  {
   "cell_type": "code",
   "execution_count": 53,
   "id": "bd17436d",
   "metadata": {
    "ExecuteTime": {
     "end_time": "2022-06-21T15:18:51.295301Z",
     "start_time": "2022-06-21T15:18:51.233076Z"
    }
   },
   "outputs": [],
   "source": [
    "train = pd.read_csv('../data/train.csv')\n",
    "test =  pd.read_csv('../data/test.csv')"
   ]
  },
  {
   "cell_type": "code",
   "execution_count": null,
   "id": "ab042c65",
   "metadata": {
    "ExecuteTime": {
     "end_time": "2022-06-21T11:04:55.953025Z",
     "start_time": "2022-06-21T11:04:55.887336Z"
    }
   },
   "outputs": [],
   "source": []
  },
  {
   "cell_type": "markdown",
   "id": "30266695",
   "metadata": {},
   "source": [
    "## train test split"
   ]
  },
  {
   "cell_type": "code",
   "execution_count": 54,
   "id": "bd6fa67a",
   "metadata": {
    "ExecuteTime": {
     "end_time": "2022-06-21T15:18:52.991018Z",
     "start_time": "2022-06-21T15:18:52.985308Z"
    }
   },
   "outputs": [],
   "source": [
    "__TARGET__ = 'SalePrice'"
   ]
  },
  {
   "cell_type": "code",
   "execution_count": 55,
   "id": "93f9850c",
   "metadata": {
    "ExecuteTime": {
     "end_time": "2022-06-21T15:18:53.636398Z",
     "start_time": "2022-06-21T15:18:53.626806Z"
    }
   },
   "outputs": [],
   "source": [
    "train_train, train_test = train_test_split(train, \n",
    "                                           test_size = 0.3, \n",
    "                                           #stratify = train[__TARGET__], \n",
    "                                           shuffle=True, \n",
    "                                           random_state = 4213 )"
   ]
  },
  {
   "cell_type": "code",
   "execution_count": 56,
   "id": "1b0244d7",
   "metadata": {
    "ExecuteTime": {
     "end_time": "2022-06-21T15:18:54.264729Z",
     "start_time": "2022-06-21T15:18:54.257124Z"
    }
   },
   "outputs": [
    {
     "data": {
      "text/plain": [
       "((1022, 81), (438, 81))"
      ]
     },
     "execution_count": 56,
     "metadata": {},
     "output_type": "execute_result"
    }
   ],
   "source": [
    "train_train.shape, train_test.shape"
   ]
  },
  {
   "cell_type": "markdown",
   "id": "5dcbdc86",
   "metadata": {},
   "source": [
    "## Feature engineering\n",
    "\n",
    "basement % finished"
   ]
  },
  {
   "cell_type": "code",
   "execution_count": 57,
   "id": "b99c0154",
   "metadata": {
    "ExecuteTime": {
     "end_time": "2022-06-21T15:18:55.707991Z",
     "start_time": "2022-06-21T15:18:55.698310Z"
    },
    "scrolled": true
   },
   "outputs": [
    {
     "data": {
      "text/plain": [
       "['Id',\n",
       " 'MSSubClass',\n",
       " 'MSZoning',\n",
       " 'LotFrontage',\n",
       " 'LotArea',\n",
       " 'Street',\n",
       " 'Alley',\n",
       " 'LotShape',\n",
       " 'LandContour',\n",
       " 'Utilities',\n",
       " 'LotConfig',\n",
       " 'LandSlope',\n",
       " 'Neighborhood',\n",
       " 'Condition1',\n",
       " 'Condition2',\n",
       " 'BldgType',\n",
       " 'HouseStyle',\n",
       " 'OverallQual',\n",
       " 'OverallCond',\n",
       " 'YearBuilt',\n",
       " 'YearRemodAdd',\n",
       " 'RoofStyle',\n",
       " 'RoofMatl',\n",
       " 'Exterior1st',\n",
       " 'Exterior2nd',\n",
       " 'MasVnrType',\n",
       " 'MasVnrArea',\n",
       " 'ExterQual',\n",
       " 'ExterCond',\n",
       " 'Foundation',\n",
       " 'BsmtQual',\n",
       " 'BsmtCond',\n",
       " 'BsmtExposure',\n",
       " 'BsmtFinType1',\n",
       " 'BsmtFinSF1',\n",
       " 'BsmtFinType2',\n",
       " 'BsmtFinSF2',\n",
       " 'BsmtUnfSF',\n",
       " 'TotalBsmtSF',\n",
       " 'Heating',\n",
       " 'HeatingQC',\n",
       " 'CentralAir',\n",
       " 'Electrical',\n",
       " '1stFlrSF',\n",
       " '2ndFlrSF',\n",
       " 'LowQualFinSF',\n",
       " 'GrLivArea',\n",
       " 'BsmtFullBath',\n",
       " 'BsmtHalfBath',\n",
       " 'FullBath',\n",
       " 'HalfBath',\n",
       " 'BedroomAbvGr',\n",
       " 'KitchenAbvGr',\n",
       " 'KitchenQual',\n",
       " 'TotRmsAbvGrd',\n",
       " 'Functional',\n",
       " 'Fireplaces',\n",
       " 'FireplaceQu',\n",
       " 'GarageType',\n",
       " 'GarageYrBlt',\n",
       " 'GarageFinish',\n",
       " 'GarageCars',\n",
       " 'GarageArea',\n",
       " 'GarageQual',\n",
       " 'GarageCond',\n",
       " 'PavedDrive',\n",
       " 'WoodDeckSF',\n",
       " 'OpenPorchSF',\n",
       " 'EnclosedPorch',\n",
       " '3SsnPorch',\n",
       " 'ScreenPorch',\n",
       " 'PoolArea',\n",
       " 'PoolQC',\n",
       " 'Fence',\n",
       " 'MiscFeature',\n",
       " 'MiscVal',\n",
       " 'MoSold',\n",
       " 'YrSold',\n",
       " 'SaleType',\n",
       " 'SaleCondition',\n",
       " 'SalePrice']"
      ]
     },
     "execution_count": 57,
     "metadata": {},
     "output_type": "execute_result"
    }
   ],
   "source": [
    "train.columns.to_list()"
   ]
  },
  {
   "cell_type": "markdown",
   "id": "0a4e4fa1",
   "metadata": {},
   "source": [
    "### ratio bathrooms to bedrooms"
   ]
  },
  {
   "cell_type": "code",
   "execution_count": 58,
   "id": "5788f610",
   "metadata": {
    "ExecuteTime": {
     "end_time": "2022-06-21T15:18:57.048358Z",
     "start_time": "2022-06-21T15:18:57.041296Z"
    }
   },
   "outputs": [],
   "source": [
    "def ratio_bed_bath(data):\n",
    "    \"\"\"Calculate the ratio of bedrooms to bathrooms\"\"\"\n",
    "    data_ = data.copy()\n",
    "    data_['FEAT_ratio_bed_bath'] = data_['BedroomAbvGr']/ (data_['FullBath']+ data_['HalfBath'])\n",
    "    max_val = data_.loc[data_['FEAT_ratio_bed_bath']< 999999, 'FEAT_ratio_bed_bath'].max()\n",
    "    data_.loc[data_['FEAT_ratio_bed_bath']> 999999, 'FEAT_ratio_bed_bath'] = max_val\n",
    "    return data_"
   ]
  },
  {
   "cell_type": "code",
   "execution_count": 59,
   "id": "5f1583c2",
   "metadata": {
    "ExecuteTime": {
     "end_time": "2022-06-21T15:18:57.776178Z",
     "start_time": "2022-06-21T15:18:57.761726Z"
    }
   },
   "outputs": [],
   "source": [
    "train_train = ratio_bed_bath(train_train)\n",
    "train_test = ratio_bed_bath(train_test)\n",
    "test = ratio_bed_bath(test)"
   ]
  },
  {
   "cell_type": "code",
   "execution_count": 60,
   "id": "5a5f8a52",
   "metadata": {
    "ExecuteTime": {
     "end_time": "2022-06-21T15:18:58.821697Z",
     "start_time": "2022-06-21T15:18:58.617024Z"
    }
   },
   "outputs": [
    {
     "data": {
      "image/png": "[encoded data removed]",
      "text/plain": [
       "<Figure size 432x288 with 1 Axes>"
      ]
     },
     "metadata": {
      "needs_background": "light"
     },
     "output_type": "display_data"
    }
   ],
   "source": [
    "train_train['FEAT_ratio_bed_bath'].plot(kind='hist', title= 'FEAT_ratio_bed_bath', bins=20 );"
   ]
  },
  {
   "cell_type": "code",
   "execution_count": 69,
   "id": "443bbc43",
   "metadata": {
    "ExecuteTime": {
     "end_time": "2022-06-21T15:22:16.729850Z",
     "start_time": "2022-06-21T15:22:16.463439Z"
    },
    "scrolled": false
   },
   "outputs": [
    {
     "data": {
      "image/png": "[encoded data removed]",
      "text/plain": [
       "<Figure size 1080x720 with 1 Axes>"
      ]
     },
     "metadata": {
      "needs_background": "light"
     },
     "output_type": "display_data"
    }
   ],
   "source": [
    "plt.figure(figsize=(15,10))\n",
    "plt.scatter(train_train['FEAT_ratio_bed_bath'], \n",
    "            train_train['SalePrice']\n",
    "            );\n",
    "train_train.groupby('FEAT_ratio_bed_bath')['SalePrice'].agg(['mean','count']).sort_index()['mean'].plot(color='#ffa500');\n",
    "\n",
    "plt.title('SalePrice vs bedroom:bathroom ratio');\n",
    "plt.ylabel('SalePrice');\n",
    "plt.xlabel('#Bedrooms/ #Bathrooms');\n"
   ]
  },
  {
   "cell_type": "code",
   "execution_count": 66,
   "id": "9ef92152",
   "metadata": {
    "ExecuteTime": {
     "end_time": "2022-06-21T15:20:50.366296Z",
     "start_time": "2022-06-21T15:20:50.152483Z"
    }
   },
   "outputs": [
    {
     "data": {
      "text/plain": [
       "<AxesSubplot:xlabel='FEAT_ratio_bed_bath'>"
      ]
     },
     "execution_count": 66,
     "metadata": {},
     "output_type": "execute_result"
    },
    {
     "data": {
      "image/png": "[encoded data removed]",
      "text/plain": [
       "<Figure size 432x288 with 1 Axes>"
      ]
     },
     "metadata": {
      "needs_background": "light"
     },
     "output_type": "display_data"
    }
   ],
   "source": [
    "train_train.groupby('FEAT_ratio_bed_bath')['SalePrice'].agg(['mean','count']).sort_index()['mean'].plot();"
   ]
  },
  {
   "cell_type": "markdown",
   "id": "6eb17d42",
   "metadata": {},
   "source": [
    "### what % of lot area is covered by the home"
   ]
  },
  {
   "cell_type": "code",
   "execution_count": 11,
   "id": "89b6c66c",
   "metadata": {
    "ExecuteTime": {
     "end_time": "2022-06-21T12:53:03.233741Z",
     "start_time": "2022-06-21T12:53:03.228069Z"
    }
   },
   "outputs": [],
   "source": [
    "def pct_lot_area_home(data):\n",
    "    data_ = data.copy()\n",
    "    data_['FEAT_pct_lotarea_house'] = 100*(data['1stFlrSF']/data['LotArea'])\n",
    "    return data_"
   ]
  },
  {
   "cell_type": "code",
   "execution_count": 12,
   "id": "718acb3b",
   "metadata": {
    "ExecuteTime": {
     "end_time": "2022-06-21T12:53:03.250928Z",
     "start_time": "2022-06-21T12:53:03.238003Z"
    }
   },
   "outputs": [],
   "source": [
    "train_train = pct_lot_area_home(train_train)\n",
    "train_test = pct_lot_area_home(train_test)\n",
    "test = pct_lot_area_home(test)"
   ]
  },
  {
   "cell_type": "code",
   "execution_count": 13,
   "id": "3ca03528",
   "metadata": {
    "ExecuteTime": {
     "end_time": "2022-06-21T12:53:03.462941Z",
     "start_time": "2022-06-21T12:53:03.265154Z"
    },
    "scrolled": true
   },
   "outputs": [
    {
     "data": {
      "image/png": "[encoded data removed]",
      "text/plain": [
       "<Figure size 432x288 with 1 Axes>"
      ]
     },
     "metadata": {
      "needs_background": "light"
     },
     "output_type": "display_data"
    }
   ],
   "source": [
    "train_train['FEAT_pct_lotarea_house'].plot(kind='hist', title = 'FEAT_pct_lotarea_house', bins=20);"
   ]
  },
  {
   "cell_type": "code",
   "execution_count": 14,
   "id": "a63a58ea",
   "metadata": {
    "ExecuteTime": {
     "end_time": "2022-06-21T12:53:03.655569Z",
     "start_time": "2022-06-21T12:53:03.472662Z"
    },
    "scrolled": true
   },
   "outputs": [
    {
     "data": {
      "image/png": "[encoded data removed]",
      "text/plain": [
       "<Figure size 432x288 with 1 Axes>"
      ]
     },
     "metadata": {
      "needs_background": "light"
     },
     "output_type": "display_data"
    }
   ],
   "source": [
    "plt.scatter(train_train['FEAT_pct_lotarea_house'], train_train['SalePrice']);"
   ]
  },
  {
   "cell_type": "markdown",
   "id": "f6b83d68",
   "metadata": {},
   "source": [
    "### age of house"
   ]
  },
  {
   "cell_type": "code",
   "execution_count": 15,
   "id": "c0c06bd1",
   "metadata": {
    "ExecuteTime": {
     "end_time": "2022-06-21T12:53:03.665417Z",
     "start_time": "2022-06-21T12:53:03.659897Z"
    }
   },
   "outputs": [],
   "source": [
    "def age_of_house_years(data):\n",
    "    data_ = data.copy()\n",
    "    data_['FEAT_age_of_house'] = data_['YrSold'] - data_['YearBuilt']\n",
    "    return data_"
   ]
  },
  {
   "cell_type": "code",
   "execution_count": 16,
   "id": "cd031da1",
   "metadata": {
    "ExecuteTime": {
     "end_time": "2022-06-21T12:53:03.688245Z",
     "start_time": "2022-06-21T12:53:03.669874Z"
    }
   },
   "outputs": [],
   "source": [
    "train_train = age_of_house_years(train_train)\n",
    "train_test = age_of_house_years(train_test)\n",
    "test = age_of_house_years(test)"
   ]
  },
  {
   "cell_type": "code",
   "execution_count": 17,
   "id": "8e106228",
   "metadata": {
    "ExecuteTime": {
     "end_time": "2022-06-21T12:53:03.904600Z",
     "start_time": "2022-06-21T12:53:03.696711Z"
    }
   },
   "outputs": [
    {
     "data": {
      "image/png": "[encoded data removed]",
      "text/plain": [
       "<Figure size 432x288 with 1 Axes>"
      ]
     },
     "metadata": {
      "needs_background": "light"
     },
     "output_type": "display_data"
    }
   ],
   "source": [
    "train_train['FEAT_age_of_house'].plot(kind='hist', bins=20, title='FEAT_age_of_house');"
   ]
  },
  {
   "cell_type": "code",
   "execution_count": 18,
   "id": "17cea860",
   "metadata": {
    "ExecuteTime": {
     "end_time": "2022-06-21T12:53:04.084240Z",
     "start_time": "2022-06-21T12:53:03.908667Z"
    }
   },
   "outputs": [
    {
     "data": {
      "image/png": "[encoded data removed]",
      "text/plain": [
       "<Figure size 432x288 with 1 Axes>"
      ]
     },
     "metadata": {
      "needs_background": "light"
     },
     "output_type": "display_data"
    }
   ],
   "source": [
    "plt.scatter(train_train['FEAT_age_of_house'], train_train['SalePrice']);"
   ]
  },
  {
   "cell_type": "markdown",
   "id": "a7b3f75f",
   "metadata": {},
   "source": [
    "### pct of basement finished"
   ]
  },
  {
   "cell_type": "code",
   "execution_count": 19,
   "id": "6719224f",
   "metadata": {
    "ExecuteTime": {
     "end_time": "2022-06-21T12:53:04.093865Z",
     "start_time": "2022-06-21T12:53:04.087834Z"
    }
   },
   "outputs": [],
   "source": [
    "def pct_bsmt_unfinished(data):\n",
    "    data_ = data.copy()\n",
    "    data_['FEAT_pct_bsmt_unfinished'] = 100*data_['BsmtUnfSF']/ data_['TotalBsmtSF']\n",
    "    return data_"
   ]
  },
  {
   "cell_type": "code",
   "execution_count": 20,
   "id": "c36b6fea",
   "metadata": {
    "ExecuteTime": {
     "end_time": "2022-06-21T12:53:04.110071Z",
     "start_time": "2022-06-21T12:53:04.096495Z"
    }
   },
   "outputs": [],
   "source": [
    "train_train = pct_bsmt_unfinished(train_train)\n",
    "train_test = pct_bsmt_unfinished(train_test)\n",
    "test = pct_bsmt_unfinished(test)"
   ]
  },
  {
   "cell_type": "code",
   "execution_count": 21,
   "id": "34f16b3e",
   "metadata": {
    "ExecuteTime": {
     "end_time": "2022-06-21T12:53:04.319969Z",
     "start_time": "2022-06-21T12:53:04.113069Z"
    }
   },
   "outputs": [
    {
     "data": {
      "image/png": "[encoded data removed]",
      "text/plain": [
       "<Figure size 432x288 with 1 Axes>"
      ]
     },
     "metadata": {
      "needs_background": "light"
     },
     "output_type": "display_data"
    }
   ],
   "source": [
    "train_train['FEAT_pct_bsmt_unfinished'].plot(kind='hist', bins=20, title='FEAT_age_of_house');"
   ]
  },
  {
   "cell_type": "code",
   "execution_count": 22,
   "id": "dfdaa0f8",
   "metadata": {
    "ExecuteTime": {
     "end_time": "2022-06-21T12:53:04.517242Z",
     "start_time": "2022-06-21T12:53:04.324104Z"
    }
   },
   "outputs": [
    {
     "data": {
      "text/plain": [
       "<matplotlib.collections.PathCollection at 0x7f85738ca940>"
      ]
     },
     "execution_count": 22,
     "metadata": {},
     "output_type": "execute_result"
    },
    {
     "data": {
      "image/png": "[encoded data removed]",
      "text/plain": [
       "<Figure size 432x288 with 1 Axes>"
      ]
     },
     "metadata": {
      "needs_background": "light"
     },
     "output_type": "display_data"
    }
   ],
   "source": [
    "plt.scatter(train_train['FEAT_pct_bsmt_unfinished'], train_train['SalePrice'])"
   ]
  },
  {
   "cell_type": "markdown",
   "id": "2550cffd",
   "metadata": {},
   "source": [
    "### remodel flag"
   ]
  },
  {
   "cell_type": "code",
   "execution_count": 23,
   "id": "5baec931",
   "metadata": {
    "ExecuteTime": {
     "end_time": "2022-06-21T12:53:04.530471Z",
     "start_time": "2022-06-21T12:53:04.524185Z"
    }
   },
   "outputs": [],
   "source": [
    "def has_remodel(data):\n",
    "    data_ = data.copy()\n",
    "    data_['FEAT_has_remodel'] = 0\n",
    "    data_.loc[(data_['YearBuilt'] != data['YearRemodAdd']), 'FEAT_has_remodel'] = 1\n",
    "    return data_"
   ]
  },
  {
   "cell_type": "code",
   "execution_count": 24,
   "id": "e87a9399",
   "metadata": {
    "ExecuteTime": {
     "end_time": "2022-06-21T12:53:04.561567Z",
     "start_time": "2022-06-21T12:53:04.536185Z"
    }
   },
   "outputs": [],
   "source": [
    "train_train = has_remodel(train_train)\n",
    "train_test = has_remodel(train_test)\n",
    "test = has_remodel(test)"
   ]
  },
  {
   "cell_type": "code",
   "execution_count": 25,
   "id": "52f2ebd7",
   "metadata": {
    "ExecuteTime": {
     "end_time": "2022-06-21T12:53:04.898118Z",
     "start_time": "2022-06-21T12:53:04.567840Z"
    },
    "scrolled": true
   },
   "outputs": [
    {
     "data": {
      "image/png": "[encoded data removed]",
      "text/plain": [
       "<Figure size 1080x720 with 1 Axes>"
      ]
     },
     "metadata": {
      "needs_background": "light"
     },
     "output_type": "display_data"
    }
   ],
   "source": [
    "fnc.plot_distro_per_cat(train_train, 'SalePrice', 'FEAT_has_remodel', plt_args={'bins': 20, 'alpha': 0.7})"
   ]
  },
  {
   "cell_type": "code",
   "execution_count": null,
   "id": "15a54d2c",
   "metadata": {
    "ExecuteTime": {
     "end_time": "2022-06-21T11:45:53.573634Z",
     "start_time": "2022-06-21T11:45:53.568289Z"
    }
   },
   "outputs": [],
   "source": []
  },
  {
   "cell_type": "markdown",
   "id": "9e313c35",
   "metadata": {},
   "source": [
    "## select features\n",
    "\n",
    "i want to end up with the list of features ranked from best to worst, for each selection method. then we can see which is best"
   ]
  },
  {
   "cell_type": "code",
   "execution_count": 26,
   "id": "dd302932",
   "metadata": {
    "ExecuteTime": {
     "end_time": "2022-06-21T12:53:04.909631Z",
     "start_time": "2022-06-21T12:53:04.902342Z"
    }
   },
   "outputs": [],
   "source": [
    "feature_types = train_train.dtypes.to_frame('dtypes')\n",
    "feature_types\n",
    "\n",
    "int_cats = [ 'OverallCond', 'OverallQual', 'MoSold', 'MSSubClass']\n",
    "data_dict = {}\n",
    "data_dict['categorical'] = feature_types[feature_types['dtypes']=='object'].index.to_list() + int_cats\n",
    "data_dict['continuous'] = [i for i in feature_types.index.to_list() if i not in data_dict['categorical'] and i not in ['Id', 'SalePrice']]"
   ]
  },
  {
   "cell_type": "markdown",
   "id": "4a47fb71",
   "metadata": {},
   "source": [
    "### remove features with > X% one value"
   ]
  },
  {
   "cell_type": "code",
   "execution_count": 27,
   "id": "b9186768",
   "metadata": {
    "ExecuteTime": {
     "end_time": "2022-06-21T12:53:04.931685Z",
     "start_time": "2022-06-21T12:53:04.924116Z"
    }
   },
   "outputs": [],
   "source": [
    "def get_pct_val(data):\n",
    "    data_ = data.copy()\n",
    "    most_common = data_.apply(lambda x: x.value_counts(dropna=False).index[0], axis=0)\n",
    "    pcts = (100*train[data_ == most_common].count()/data_.shape[0]).to_frame('pcts')\n",
    "    return pcts"
   ]
  },
  {
   "cell_type": "code",
   "execution_count": 28,
   "id": "08d80dac",
   "metadata": {
    "ExecuteTime": {
     "end_time": "2022-06-21T12:53:05.078331Z",
     "start_time": "2022-06-21T12:53:04.944691Z"
    },
    "scrolled": true
   },
   "outputs": [],
   "source": [
    "pct_one_val = get_pct_val(train_train)\n",
    "pct_oneval_removals = pct_one_val[pct_one_val['pcts']> 80]"
   ]
  },
  {
   "cell_type": "code",
   "execution_count": 84,
   "id": "e63f328d",
   "metadata": {
    "ExecuteTime": {
     "end_time": "2022-06-21T15:34:23.579700Z",
     "start_time": "2022-06-21T15:34:23.277067Z"
    }
   },
   "outputs": [
    {
     "data": {
      "image/png": "[encoded data removed]",
      "text/plain": [
       "<Figure size 1080x720 with 1 Axes>"
      ]
     },
     "metadata": {
      "needs_background": "light"
     },
     "output_type": "display_data"
    }
   ],
   "source": [
    "pct_one_val[pct_one_val['pcts']> 90].sort_values(by='pcts', \n",
    "                                                 ascending=False).plot(kind='barh', \n",
    "                                                                       figsize= (15,10));\n",
    "\n",
    "plt.xlim(80,100);\n",
    "plt.title('% of feature that is the majority value')\n",
    "ax = plt.gca();\n",
    "ax.xaxis.set_tick_params(labelsize=20)\n",
    "ax.yaxis.set_tick_params(labelsize=20)\n",
    "ax.get_legend().remove()\n"
   ]
  },
  {
   "cell_type": "code",
   "execution_count": 29,
   "id": "2a57c27b",
   "metadata": {
    "ExecuteTime": {
     "end_time": "2022-06-21T12:53:05.099842Z",
     "start_time": "2022-06-21T12:53:05.082081Z"
    }
   },
   "outputs": [],
   "source": [
    "missing_pcts = (100*train_train.isnull().sum()/train_train.shape[0]).to_frame('% Missing').sort_values(by='% Missing', ascending= False)\n",
    "missing_pcts = missing_pcts.loc[missing_pcts['% Missing']>80,]"
   ]
  },
  {
   "cell_type": "code",
   "execution_count": 30,
   "id": "c1d8de6c",
   "metadata": {
    "ExecuteTime": {
     "end_time": "2022-06-21T12:53:05.115925Z",
     "start_time": "2022-06-21T12:53:05.106237Z"
    }
   },
   "outputs": [],
   "source": [
    "pct_oneval_removals = missing_pcts.index.to_list() + pct_oneval_removals.index.to_list()"
   ]
  },
  {
   "cell_type": "code",
   "execution_count": 31,
   "id": "bcf9ef8a",
   "metadata": {
    "ExecuteTime": {
     "end_time": "2022-06-21T12:53:05.130659Z",
     "start_time": "2022-06-21T12:53:05.122343Z"
    }
   },
   "outputs": [],
   "source": [
    "data_dict['continuous'] = [i for i in data_dict['continuous'] if i not in pct_oneval_removals]\n",
    "data_dict['categorical'] = [i for i in data_dict['categorical'] if i not in pct_oneval_removals]"
   ]
  },
  {
   "cell_type": "markdown",
   "id": "ad11d28c",
   "metadata": {},
   "source": [
    "### NaN Imputation\n",
    "just going to use the mean here to be quick"
   ]
  },
  {
   "cell_type": "code",
   "execution_count": 32,
   "id": "ce047c04",
   "metadata": {
    "ExecuteTime": {
     "end_time": "2022-06-21T12:53:05.222996Z",
     "start_time": "2022-06-21T12:53:05.137398Z"
    }
   },
   "outputs": [],
   "source": [
    "si = SimpleImputer(strategy='mean')\n",
    "\n",
    "tmp = pd.DataFrame(si.fit_transform(train_train[data_dict['continuous']]))\n",
    "tmp.columns = data_dict['continuous']\n",
    "tmp.index = train_train.index\n",
    "train_train = train_train[[i for i in train_train.columns.to_list() if i not in data_dict['continuous']]].merge(tmp, left_index=True, right_index=True, how = 'left').copy()\n",
    "del tmp\n",
    "\n",
    "tmp = pd.DataFrame(si.transform(train_test[data_dict['continuous']]))\n",
    "tmp.columns = data_dict['continuous']\n",
    "tmp.index = train_test.index\n",
    "train_test = train_test[[i for i in train_test.columns.to_list() if i not in data_dict['continuous']]].merge(tmp, left_index=True, right_index=True, how = 'left').copy()\n",
    "\n",
    "del tmp\n",
    "\n",
    "tmp = pd.DataFrame(si.transform(test[data_dict['continuous']]))\n",
    "tmp.columns = data_dict['continuous']\n",
    "tmp.index = test.index\n",
    "test = test[[i for i in test.columns.to_list() if i not in data_dict['continuous']]].merge(tmp, left_index=True, right_index=True, how = 'left').copy()\n",
    "del tmp\n",
    "\n",
    "train_train =train_train.copy()\n",
    "train_test =train_test.copy()\n",
    "test =test.copy()\n",
    "\n",
    "\n",
    "train_train[data_dict['categorical']]= train_train[data_dict['categorical']].fillna('MISSING')\n",
    "train_test[data_dict['categorical']]= train_test[data_dict['categorical']].fillna('MISSING')\n",
    "test[data_dict['categorical']] = test[data_dict['categorical']].fillna('MISSING')\n"
   ]
  },
  {
   "cell_type": "markdown",
   "id": "bf6a1809",
   "metadata": {},
   "source": [
    "### standard scaler"
   ]
  },
  {
   "cell_type": "code",
   "execution_count": 33,
   "id": "1c153849",
   "metadata": {
    "ExecuteTime": {
     "end_time": "2022-06-21T12:53:05.275474Z",
     "start_time": "2022-06-21T12:53:05.226373Z"
    }
   },
   "outputs": [],
   "source": [
    "sc = StandardScaler()\n",
    "\n",
    "sc.fit(train_train[data_dict['continuous']])\n",
    "\n",
    "\n",
    "tmp = pd.DataFrame(sc.transform(train_train[data_dict['continuous']]), \n",
    "                   columns = data_dict['continuous'], \n",
    "                   index = train_train.index)\n",
    "train_train = train_train[[i for i in train_train.columns.to_list() if i not in data_dict['continuous']]].merge(tmp, left_index=True, right_index=True, how = 'left').copy()\n",
    "del tmp\n",
    "\n",
    "tmp = pd.DataFrame(sc.transform(train_test[data_dict['continuous']]), \n",
    "                   columns = data_dict['continuous'], \n",
    "                   index = train_test.index)\n",
    "train_test = train_test[[i for i in train_test.columns.to_list() if i not in data_dict['continuous']]].merge(tmp, left_index=True, right_index=True, how = 'left').copy()\n",
    "del tmp\n",
    "\n",
    "tmp = pd.DataFrame(sc.transform(test[data_dict['continuous']]), \n",
    "                   columns = data_dict['continuous'], \n",
    "                   index = test.index)\n",
    "test = test[[i for i in test.columns.to_list() if i not in data_dict['continuous']]].merge(tmp, left_index=True, right_index=True, how = 'left').copy()\n",
    "del tmp"
   ]
  },
  {
   "cell_type": "code",
   "execution_count": 34,
   "id": "7154c78e",
   "metadata": {
    "ExecuteTime": {
     "end_time": "2022-06-21T12:53:05.314942Z",
     "start_time": "2022-06-21T12:53:05.279208Z"
    }
   },
   "outputs": [
    {
     "data": {
      "text/html": [
       "<div>\n",
       "<style scoped>\n",
       "    .dataframe tbody tr th:only-of-type {\n",
       "        vertical-align: middle;\n",
       "    }\n",
       "\n",
       "    .dataframe tbody tr th {\n",
       "        vertical-align: top;\n",
       "    }\n",
       "\n",
       "    .dataframe thead th {\n",
       "        text-align: right;\n",
       "    }\n",
       "</style>\n",
       "<table border=\"1\" class=\"dataframe\">\n",
       "  <thead>\n",
       "    <tr style=\"text-align: right;\">\n",
       "      <th></th>\n",
       "      <th>Id</th>\n",
       "      <th>MSSubClass</th>\n",
       "      <th>MSZoning</th>\n",
       "      <th>Street</th>\n",
       "      <th>Alley</th>\n",
       "      <th>LotShape</th>\n",
       "      <th>LandContour</th>\n",
       "      <th>Utilities</th>\n",
       "      <th>LotConfig</th>\n",
       "      <th>LandSlope</th>\n",
       "      <th>...</th>\n",
       "      <th>GarageCars</th>\n",
       "      <th>GarageArea</th>\n",
       "      <th>WoodDeckSF</th>\n",
       "      <th>OpenPorchSF</th>\n",
       "      <th>YrSold</th>\n",
       "      <th>FEAT_ratio_bed_bath</th>\n",
       "      <th>FEAT_pct_lotarea_house</th>\n",
       "      <th>FEAT_age_of_house</th>\n",
       "      <th>FEAT_pct_bsmt_unfinished</th>\n",
       "      <th>FEAT_has_remodel</th>\n",
       "    </tr>\n",
       "  </thead>\n",
       "  <tbody>\n",
       "    <tr>\n",
       "      <th>406</th>\n",
       "      <td>407</td>\n",
       "      <td>50</td>\n",
       "      <td>RL</td>\n",
       "      <td>Pave</td>\n",
       "      <td>NaN</td>\n",
       "      <td>Reg</td>\n",
       "      <td>Lvl</td>\n",
       "      <td>AllPub</td>\n",
       "      <td>Inside</td>\n",
       "      <td>Gtl</td>\n",
       "      <td>...</td>\n",
       "      <td>-0.981365</td>\n",
       "      <td>-1.047918</td>\n",
       "      <td>-0.741186</td>\n",
       "      <td>-0.688035</td>\n",
       "      <td>0.153656</td>\n",
       "      <td>1.748367</td>\n",
       "      <td>-0.366157</td>\n",
       "      <td>1.117323</td>\n",
       "      <td>1.249079</td>\n",
       "      <td>1.023766</td>\n",
       "    </tr>\n",
       "    <tr>\n",
       "      <th>446</th>\n",
       "      <td>447</td>\n",
       "      <td>20</td>\n",
       "      <td>RL</td>\n",
       "      <td>Pave</td>\n",
       "      <td>NaN</td>\n",
       "      <td>IR1</td>\n",
       "      <td>Lvl</td>\n",
       "      <td>AllPub</td>\n",
       "      <td>Corner</td>\n",
       "      <td>Gtl</td>\n",
       "      <td>...</td>\n",
       "      <td>0.338313</td>\n",
       "      <td>0.498599</td>\n",
       "      <td>-0.741186</td>\n",
       "      <td>-0.688035</td>\n",
       "      <td>1.656400</td>\n",
       "      <td>-1.343673</td>\n",
       "      <td>-0.321272</td>\n",
       "      <td>0.213049</td>\n",
       "      <td>-0.520796</td>\n",
       "      <td>1.023766</td>\n",
       "    </tr>\n",
       "    <tr>\n",
       "      <th>929</th>\n",
       "      <td>930</td>\n",
       "      <td>60</td>\n",
       "      <td>RL</td>\n",
       "      <td>Pave</td>\n",
       "      <td>NaN</td>\n",
       "      <td>IR1</td>\n",
       "      <td>Lvl</td>\n",
       "      <td>AllPub</td>\n",
       "      <td>Corner</td>\n",
       "      <td>Gtl</td>\n",
       "      <td>...</td>\n",
       "      <td>0.338313</td>\n",
       "      <td>0.791431</td>\n",
       "      <td>-0.741186</td>\n",
       "      <td>-0.688035</td>\n",
       "      <td>-1.349088</td>\n",
       "      <td>-0.460233</td>\n",
       "      <td>-0.852753</td>\n",
       "      <td>-0.917294</td>\n",
       "      <td>1.249079</td>\n",
       "      <td>-0.976786</td>\n",
       "    </tr>\n",
       "    <tr>\n",
       "      <th>926</th>\n",
       "      <td>927</td>\n",
       "      <td>60</td>\n",
       "      <td>RL</td>\n",
       "      <td>Pave</td>\n",
       "      <td>NaN</td>\n",
       "      <td>Reg</td>\n",
       "      <td>Lvl</td>\n",
       "      <td>AllPub</td>\n",
       "      <td>Inside</td>\n",
       "      <td>Gtl</td>\n",
       "      <td>...</td>\n",
       "      <td>1.657991</td>\n",
       "      <td>0.855488</td>\n",
       "      <td>0.096659</td>\n",
       "      <td>0.754458</td>\n",
       "      <td>-0.597716</td>\n",
       "      <td>-0.460233</td>\n",
       "      <td>-0.483486</td>\n",
       "      <td>-1.078771</td>\n",
       "      <td>1.249079</td>\n",
       "      <td>1.023766</td>\n",
       "    </tr>\n",
       "    <tr>\n",
       "      <th>897</th>\n",
       "      <td>898</td>\n",
       "      <td>90</td>\n",
       "      <td>RL</td>\n",
       "      <td>Pave</td>\n",
       "      <td>NaN</td>\n",
       "      <td>Reg</td>\n",
       "      <td>Lvl</td>\n",
       "      <td>AllPub</td>\n",
       "      <td>Inside</td>\n",
       "      <td>Gtl</td>\n",
       "      <td>...</td>\n",
       "      <td>0.338313</td>\n",
       "      <td>0.269824</td>\n",
       "      <td>0.499468</td>\n",
       "      <td>-0.688035</td>\n",
       "      <td>0.905028</td>\n",
       "      <td>1.748367</td>\n",
       "      <td>0.307494</td>\n",
       "      <td>-0.239088</td>\n",
       "      <td>0.000000</td>\n",
       "      <td>-0.976786</td>\n",
       "    </tr>\n",
       "    <tr>\n",
       "      <th>...</th>\n",
       "      <td>...</td>\n",
       "      <td>...</td>\n",
       "      <td>...</td>\n",
       "      <td>...</td>\n",
       "      <td>...</td>\n",
       "      <td>...</td>\n",
       "      <td>...</td>\n",
       "      <td>...</td>\n",
       "      <td>...</td>\n",
       "      <td>...</td>\n",
       "      <td>...</td>\n",
       "      <td>...</td>\n",
       "      <td>...</td>\n",
       "      <td>...</td>\n",
       "      <td>...</td>\n",
       "      <td>...</td>\n",
       "      <td>...</td>\n",
       "      <td>...</td>\n",
       "      <td>...</td>\n",
       "      <td>...</td>\n",
       "      <td>...</td>\n",
       "    </tr>\n",
       "    <tr>\n",
       "      <th>500</th>\n",
       "      <td>501</td>\n",
       "      <td>160</td>\n",
       "      <td>RM</td>\n",
       "      <td>Pave</td>\n",
       "      <td>NaN</td>\n",
       "      <td>Reg</td>\n",
       "      <td>Lvl</td>\n",
       "      <td>AllPub</td>\n",
       "      <td>Inside</td>\n",
       "      <td>Gtl</td>\n",
       "      <td>...</td>\n",
       "      <td>-0.981365</td>\n",
       "      <td>-0.938106</td>\n",
       "      <td>0.418906</td>\n",
       "      <td>-0.284137</td>\n",
       "      <td>-0.597716</td>\n",
       "      <td>-0.239373</td>\n",
       "      <td>3.038971</td>\n",
       "      <td>-0.109906</td>\n",
       "      <td>-0.232544</td>\n",
       "      <td>-0.976786</td>\n",
       "    </tr>\n",
       "    <tr>\n",
       "      <th>198</th>\n",
       "      <td>199</td>\n",
       "      <td>75</td>\n",
       "      <td>RM</td>\n",
       "      <td>Pave</td>\n",
       "      <td>NaN</td>\n",
       "      <td>Reg</td>\n",
       "      <td>Lvl</td>\n",
       "      <td>AllPub</td>\n",
       "      <td>Corner</td>\n",
       "      <td>Gtl</td>\n",
       "      <td>...</td>\n",
       "      <td>-2.301043</td>\n",
       "      <td>-2.146037</td>\n",
       "      <td>-0.741186</td>\n",
       "      <td>2.168101</td>\n",
       "      <td>0.905028</td>\n",
       "      <td>4.398686</td>\n",
       "      <td>0.428863</td>\n",
       "      <td>1.924711</td>\n",
       "      <td>1.249079</td>\n",
       "      <td>1.023766</td>\n",
       "    </tr>\n",
       "    <tr>\n",
       "      <th>814</th>\n",
       "      <td>815</td>\n",
       "      <td>50</td>\n",
       "      <td>RL</td>\n",
       "      <td>Pave</td>\n",
       "      <td>Grvl</td>\n",
       "      <td>Reg</td>\n",
       "      <td>Lvl</td>\n",
       "      <td>AllPub</td>\n",
       "      <td>Inside</td>\n",
       "      <td>Gtl</td>\n",
       "      <td>...</td>\n",
       "      <td>-0.981365</td>\n",
       "      <td>-0.864898</td>\n",
       "      <td>0.926447</td>\n",
       "      <td>-0.688035</td>\n",
       "      <td>-1.349088</td>\n",
       "      <td>-0.239373</td>\n",
       "      <td>-0.757660</td>\n",
       "      <td>1.634052</td>\n",
       "      <td>1.249079</td>\n",
       "      <td>1.023766</td>\n",
       "    </tr>\n",
       "    <tr>\n",
       "      <th>544</th>\n",
       "      <td>545</td>\n",
       "      <td>60</td>\n",
       "      <td>RL</td>\n",
       "      <td>Pave</td>\n",
       "      <td>NaN</td>\n",
       "      <td>IR1</td>\n",
       "      <td>Lvl</td>\n",
       "      <td>AllPub</td>\n",
       "      <td>Inside</td>\n",
       "      <td>Gtl</td>\n",
       "      <td>...</td>\n",
       "      <td>0.338313</td>\n",
       "      <td>-0.196876</td>\n",
       "      <td>0.064434</td>\n",
       "      <td>-0.341837</td>\n",
       "      <td>-1.349088</td>\n",
       "      <td>-0.901953</td>\n",
       "      <td>-1.375839</td>\n",
       "      <td>-1.207953</td>\n",
       "      <td>-1.120051</td>\n",
       "      <td>-0.976786</td>\n",
       "    </tr>\n",
       "    <tr>\n",
       "      <th>1319</th>\n",
       "      <td>1320</td>\n",
       "      <td>20</td>\n",
       "      <td>RL</td>\n",
       "      <td>Pave</td>\n",
       "      <td>NaN</td>\n",
       "      <td>Reg</td>\n",
       "      <td>Bnk</td>\n",
       "      <td>AllPub</td>\n",
       "      <td>Inside</td>\n",
       "      <td>Gtl</td>\n",
       "      <td>...</td>\n",
       "      <td>-0.981365</td>\n",
       "      <td>-1.011314</td>\n",
       "      <td>-0.741186</td>\n",
       "      <td>-0.688035</td>\n",
       "      <td>-0.597716</td>\n",
       "      <td>1.748367</td>\n",
       "      <td>-0.623390</td>\n",
       "      <td>0.503709</td>\n",
       "      <td>-0.343527</td>\n",
       "      <td>-0.976786</td>\n",
       "    </tr>\n",
       "  </tbody>\n",
       "</table>\n",
       "<p>1022 rows × 86 columns</p>\n",
       "</div>"
      ],
      "text/plain": [
       "        Id  MSSubClass MSZoning Street Alley LotShape LandContour Utilities  \\\n",
       "406    407          50       RL   Pave   NaN      Reg         Lvl    AllPub   \n",
       "446    447          20       RL   Pave   NaN      IR1         Lvl    AllPub   \n",
       "929    930          60       RL   Pave   NaN      IR1         Lvl    AllPub   \n",
       "926    927          60       RL   Pave   NaN      Reg         Lvl    AllPub   \n",
       "897    898          90       RL   Pave   NaN      Reg         Lvl    AllPub   \n",
       "...    ...         ...      ...    ...   ...      ...         ...       ...   \n",
       "500    501         160       RM   Pave   NaN      Reg         Lvl    AllPub   \n",
       "198    199          75       RM   Pave   NaN      Reg         Lvl    AllPub   \n",
       "814    815          50       RL   Pave  Grvl      Reg         Lvl    AllPub   \n",
       "544    545          60       RL   Pave   NaN      IR1         Lvl    AllPub   \n",
       "1319  1320          20       RL   Pave   NaN      Reg         Bnk    AllPub   \n",
       "\n",
       "     LotConfig LandSlope  ... GarageCars GarageArea WoodDeckSF OpenPorchSF  \\\n",
       "406     Inside       Gtl  ...  -0.981365  -1.047918  -0.741186   -0.688035   \n",
       "446     Corner       Gtl  ...   0.338313   0.498599  -0.741186   -0.688035   \n",
       "929     Corner       Gtl  ...   0.338313   0.791431  -0.741186   -0.688035   \n",
       "926     Inside       Gtl  ...   1.657991   0.855488   0.096659    0.754458   \n",
       "897     Inside       Gtl  ...   0.338313   0.269824   0.499468   -0.688035   \n",
       "...        ...       ...  ...        ...        ...        ...         ...   \n",
       "500     Inside       Gtl  ...  -0.981365  -0.938106   0.418906   -0.284137   \n",
       "198     Corner       Gtl  ...  -2.301043  -2.146037  -0.741186    2.168101   \n",
       "814     Inside       Gtl  ...  -0.981365  -0.864898   0.926447   -0.688035   \n",
       "544     Inside       Gtl  ...   0.338313  -0.196876   0.064434   -0.341837   \n",
       "1319    Inside       Gtl  ...  -0.981365  -1.011314  -0.741186   -0.688035   \n",
       "\n",
       "        YrSold  FEAT_ratio_bed_bath  FEAT_pct_lotarea_house FEAT_age_of_house  \\\n",
       "406   0.153656             1.748367               -0.366157          1.117323   \n",
       "446   1.656400            -1.343673               -0.321272          0.213049   \n",
       "929  -1.349088            -0.460233               -0.852753         -0.917294   \n",
       "926  -0.597716            -0.460233               -0.483486         -1.078771   \n",
       "897   0.905028             1.748367                0.307494         -0.239088   \n",
       "...        ...                  ...                     ...               ...   \n",
       "500  -0.597716            -0.239373                3.038971         -0.109906   \n",
       "198   0.905028             4.398686                0.428863          1.924711   \n",
       "814  -1.349088            -0.239373               -0.757660          1.634052   \n",
       "544  -1.349088            -0.901953               -1.375839         -1.207953   \n",
       "1319 -0.597716             1.748367               -0.623390          0.503709   \n",
       "\n",
       "     FEAT_pct_bsmt_unfinished FEAT_has_remodel  \n",
       "406                  1.249079         1.023766  \n",
       "446                 -0.520796         1.023766  \n",
       "929                  1.249079        -0.976786  \n",
       "926                  1.249079         1.023766  \n",
       "897                  0.000000        -0.976786  \n",
       "...                       ...              ...  \n",
       "500                 -0.232544        -0.976786  \n",
       "198                  1.249079         1.023766  \n",
       "814                  1.249079         1.023766  \n",
       "544                 -1.120051        -0.976786  \n",
       "1319                -0.343527        -0.976786  \n",
       "\n",
       "[1022 rows x 86 columns]"
      ]
     },
     "execution_count": 34,
     "metadata": {},
     "output_type": "execute_result"
    }
   ],
   "source": [
    "train_train"
   ]
  },
  {
   "cell_type": "markdown",
   "id": "87aed2b9",
   "metadata": {},
   "source": [
    "### correlation (continuous features)"
   ]
  },
  {
   "cell_type": "code",
   "execution_count": 35,
   "id": "871becad",
   "metadata": {
    "ExecuteTime": {
     "end_time": "2022-06-21T12:53:05.325455Z",
     "start_time": "2022-06-21T12:53:05.319476Z"
    }
   },
   "outputs": [],
   "source": [
    "correlations = pd.DataFrame()\n",
    "cont_feats = data_dict['continuous']"
   ]
  },
  {
   "cell_type": "code",
   "execution_count": 36,
   "id": "4e33b989",
   "metadata": {
    "ExecuteTime": {
     "end_time": "2022-06-21T12:53:05.351875Z",
     "start_time": "2022-06-21T12:53:05.329299Z"
    },
    "scrolled": true
   },
   "outputs": [],
   "source": [
    "correlations['spearman'] = train_train[cont_feats+ ['SalePrice']].corr(method='spearman')['SalePrice'].abs()"
   ]
  },
  {
   "cell_type": "code",
   "execution_count": 37,
   "id": "286582ed",
   "metadata": {
    "ExecuteTime": {
     "end_time": "2022-06-21T12:53:05.373785Z",
     "start_time": "2022-06-21T12:53:05.360393Z"
    }
   },
   "outputs": [],
   "source": [
    "correlations['pearson'] = train_train[cont_feats+ ['SalePrice']].corr(method='pearson')['SalePrice'].abs()"
   ]
  },
  {
   "cell_type": "code",
   "execution_count": 38,
   "id": "fe249a1a",
   "metadata": {
    "ExecuteTime": {
     "end_time": "2022-06-21T12:53:05.398994Z",
     "start_time": "2022-06-21T12:53:05.379189Z"
    },
    "scrolled": true
   },
   "outputs": [
    {
     "data": {
      "text/html": [
       "<div>\n",
       "<style scoped>\n",
       "    .dataframe tbody tr th:only-of-type {\n",
       "        vertical-align: middle;\n",
       "    }\n",
       "\n",
       "    .dataframe tbody tr th {\n",
       "        vertical-align: top;\n",
       "    }\n",
       "\n",
       "    .dataframe thead th {\n",
       "        text-align: right;\n",
       "    }\n",
       "</style>\n",
       "<table border=\"1\" class=\"dataframe\">\n",
       "  <thead>\n",
       "    <tr style=\"text-align: right;\">\n",
       "      <th></th>\n",
       "      <th>spearman</th>\n",
       "      <th>pearson</th>\n",
       "    </tr>\n",
       "  </thead>\n",
       "  <tbody>\n",
       "    <tr>\n",
       "      <th>LotFrontage</th>\n",
       "      <td>0.396601</td>\n",
       "      <td>0.355130</td>\n",
       "    </tr>\n",
       "    <tr>\n",
       "      <th>LotArea</th>\n",
       "      <td>0.465685</td>\n",
       "      <td>0.263516</td>\n",
       "    </tr>\n",
       "    <tr>\n",
       "      <th>YearBuilt</th>\n",
       "      <td>0.623777</td>\n",
       "      <td>0.493511</td>\n",
       "    </tr>\n",
       "    <tr>\n",
       "      <th>YearRemodAdd</th>\n",
       "      <td>0.563423</td>\n",
       "      <td>0.496131</td>\n",
       "    </tr>\n",
       "    <tr>\n",
       "      <th>MasVnrArea</th>\n",
       "      <td>0.401500</td>\n",
       "      <td>0.439390</td>\n",
       "    </tr>\n",
       "    <tr>\n",
       "      <th>BsmtFinSF1</th>\n",
       "      <td>0.313643</td>\n",
       "      <td>0.386856</td>\n",
       "    </tr>\n",
       "    <tr>\n",
       "      <th>BsmtUnfSF</th>\n",
       "      <td>0.159894</td>\n",
       "      <td>0.191081</td>\n",
       "    </tr>\n",
       "    <tr>\n",
       "      <th>TotalBsmtSF</th>\n",
       "      <td>0.598535</td>\n",
       "      <td>0.592082</td>\n",
       "    </tr>\n",
       "    <tr>\n",
       "      <th>1stFlrSF</th>\n",
       "      <td>0.575325</td>\n",
       "      <td>0.588855</td>\n",
       "    </tr>\n",
       "    <tr>\n",
       "      <th>2ndFlrSF</th>\n",
       "      <td>0.290417</td>\n",
       "      <td>0.318426</td>\n",
       "    </tr>\n",
       "    <tr>\n",
       "      <th>GrLivArea</th>\n",
       "      <td>0.720811</td>\n",
       "      <td>0.687534</td>\n",
       "    </tr>\n",
       "    <tr>\n",
       "      <th>BsmtFullBath</th>\n",
       "      <td>0.249930</td>\n",
       "      <td>0.249969</td>\n",
       "    </tr>\n",
       "    <tr>\n",
       "      <th>FullBath</th>\n",
       "      <td>0.618257</td>\n",
       "      <td>0.543254</td>\n",
       "    </tr>\n",
       "    <tr>\n",
       "      <th>HalfBath</th>\n",
       "      <td>0.332389</td>\n",
       "      <td>0.287198</td>\n",
       "    </tr>\n",
       "    <tr>\n",
       "      <th>BedroomAbvGr</th>\n",
       "      <td>0.222692</td>\n",
       "      <td>0.158910</td>\n",
       "    </tr>\n",
       "    <tr>\n",
       "      <th>TotRmsAbvGrd</th>\n",
       "      <td>0.506894</td>\n",
       "      <td>0.526142</td>\n",
       "    </tr>\n",
       "    <tr>\n",
       "      <th>Fireplaces</th>\n",
       "      <td>0.512001</td>\n",
       "      <td>0.464573</td>\n",
       "    </tr>\n",
       "    <tr>\n",
       "      <th>GarageYrBlt</th>\n",
       "      <td>0.536721</td>\n",
       "      <td>0.440324</td>\n",
       "    </tr>\n",
       "    <tr>\n",
       "      <th>GarageCars</th>\n",
       "      <td>0.694989</td>\n",
       "      <td>0.643922</td>\n",
       "    </tr>\n",
       "    <tr>\n",
       "      <th>GarageArea</th>\n",
       "      <td>0.647660</td>\n",
       "      <td>0.623871</td>\n",
       "    </tr>\n",
       "    <tr>\n",
       "      <th>WoodDeckSF</th>\n",
       "      <td>0.341776</td>\n",
       "      <td>0.304333</td>\n",
       "    </tr>\n",
       "    <tr>\n",
       "      <th>OpenPorchSF</th>\n",
       "      <td>0.472194</td>\n",
       "      <td>0.322037</td>\n",
       "    </tr>\n",
       "    <tr>\n",
       "      <th>YrSold</th>\n",
       "      <td>0.029996</td>\n",
       "      <td>0.023219</td>\n",
       "    </tr>\n",
       "    <tr>\n",
       "      <th>FEAT_ratio_bed_bath</th>\n",
       "      <td>0.532879</td>\n",
       "      <td>0.431177</td>\n",
       "    </tr>\n",
       "    <tr>\n",
       "      <th>FEAT_pct_lotarea_house</th>\n",
       "      <td>0.005942</td>\n",
       "      <td>0.034699</td>\n",
       "    </tr>\n",
       "    <tr>\n",
       "      <th>FEAT_age_of_house</th>\n",
       "      <td>0.621290</td>\n",
       "      <td>0.493265</td>\n",
       "    </tr>\n",
       "    <tr>\n",
       "      <th>FEAT_pct_bsmt_unfinished</th>\n",
       "      <td>0.125192</td>\n",
       "      <td>0.124686</td>\n",
       "    </tr>\n",
       "    <tr>\n",
       "      <th>FEAT_has_remodel</th>\n",
       "      <td>0.090306</td>\n",
       "      <td>0.032770</td>\n",
       "    </tr>\n",
       "    <tr>\n",
       "      <th>SalePrice</th>\n",
       "      <td>1.000000</td>\n",
       "      <td>1.000000</td>\n",
       "    </tr>\n",
       "  </tbody>\n",
       "</table>\n",
       "</div>"
      ],
      "text/plain": [
       "                          spearman   pearson\n",
       "LotFrontage               0.396601  0.355130\n",
       "LotArea                   0.465685  0.263516\n",
       "YearBuilt                 0.623777  0.493511\n",
       "YearRemodAdd              0.563423  0.496131\n",
       "MasVnrArea                0.401500  0.439390\n",
       "BsmtFinSF1                0.313643  0.386856\n",
       "BsmtUnfSF                 0.159894  0.191081\n",
       "TotalBsmtSF               0.598535  0.592082\n",
       "1stFlrSF                  0.575325  0.588855\n",
       "2ndFlrSF                  0.290417  0.318426\n",
       "GrLivArea                 0.720811  0.687534\n",
       "BsmtFullBath              0.249930  0.249969\n",
       "FullBath                  0.618257  0.543254\n",
       "HalfBath                  0.332389  0.287198\n",
       "BedroomAbvGr              0.222692  0.158910\n",
       "TotRmsAbvGrd              0.506894  0.526142\n",
       "Fireplaces                0.512001  0.464573\n",
       "GarageYrBlt               0.536721  0.440324\n",
       "GarageCars                0.694989  0.643922\n",
       "GarageArea                0.647660  0.623871\n",
       "WoodDeckSF                0.341776  0.304333\n",
       "OpenPorchSF               0.472194  0.322037\n",
       "YrSold                    0.029996  0.023219\n",
       "FEAT_ratio_bed_bath       0.532879  0.431177\n",
       "FEAT_pct_lotarea_house    0.005942  0.034699\n",
       "FEAT_age_of_house         0.621290  0.493265\n",
       "FEAT_pct_bsmt_unfinished  0.125192  0.124686\n",
       "FEAT_has_remodel          0.090306  0.032770\n",
       "SalePrice                 1.000000  1.000000"
      ]
     },
     "execution_count": 38,
     "metadata": {},
     "output_type": "execute_result"
    }
   ],
   "source": [
    "correlations"
   ]
  },
  {
   "cell_type": "markdown",
   "id": "9773efef",
   "metadata": {},
   "source": [
    "### mutual information (continuous features)"
   ]
  },
  {
   "cell_type": "code",
   "execution_count": 39,
   "id": "9c6ac088",
   "metadata": {
    "ExecuteTime": {
     "end_time": "2022-06-21T12:53:05.624623Z",
     "start_time": "2022-06-21T12:53:05.405500Z"
    },
    "scrolled": true
   },
   "outputs": [
    {
     "data": {
      "text/html": [
       "<style>#sk-container-id-1 {color: black;background-color: white;}#sk-container-id-1 pre{padding: 0;}#sk-container-id-1 div.sk-toggleable {background-color: white;}#sk-container-id-1 label.sk-toggleable__label {cursor: pointer;display: block;width: 100%;margin-bottom: 0;padding: 0.3em;box-sizing: border-box;text-align: center;}#sk-container-id-1 label.sk-toggleable__label-arrow:before {content: \"▸\";float: left;margin-right: 0.25em;color: #696969;}#sk-container-id-1 label.sk-toggleable__label-arrow:hover:before {color: black;}#sk-container-id-1 div.sk-estimator:hover label.sk-toggleable__label-arrow:before {color: black;}#sk-container-id-1 div.sk-toggleable__content {max-height: 0;max-width: 0;overflow: hidden;text-align: left;background-color: #f0f8ff;}#sk-container-id-1 div.sk-toggleable__content pre {margin: 0.2em;color: black;border-radius: 0.25em;background-color: #f0f8ff;}#sk-container-id-1 input.sk-toggleable__control:checked~div.sk-toggleable__content {max-height: 200px;max-width: 100%;overflow: auto;}#sk-container-id-1 input.sk-toggleable__control:checked~label.sk-toggleable__label-arrow:before {content: \"▾\";}#sk-container-id-1 div.sk-estimator input.sk-toggleable__control:checked~label.sk-toggleable__label {background-color: #d4ebff;}#sk-container-id-1 div.sk-label input.sk-toggleable__control:checked~label.sk-toggleable__label {background-color: #d4ebff;}#sk-container-id-1 input.sk-hidden--visually {border: 0;clip: rect(1px 1px 1px 1px);clip: rect(1px, 1px, 1px, 1px);height: 1px;margin: -1px;overflow: hidden;padding: 0;position: absolute;width: 1px;}#sk-container-id-1 div.sk-estimator {font-family: monospace;background-color: #f0f8ff;border: 1px dotted black;border-radius: 0.25em;box-sizing: border-box;margin-bottom: 0.5em;}#sk-container-id-1 div.sk-estimator:hover {background-color: #d4ebff;}#sk-container-id-1 div.sk-parallel-item::after {content: \"\";width: 100%;border-bottom: 1px solid gray;flex-grow: 1;}#sk-container-id-1 div.sk-label:hover label.sk-toggleable__label {background-color: #d4ebff;}#sk-container-id-1 div.sk-serial::before {content: \"\";position: absolute;border-left: 1px solid gray;box-sizing: border-box;top: 0;bottom: 0;left: 50%;z-index: 0;}#sk-container-id-1 div.sk-serial {display: flex;flex-direction: column;align-items: center;background-color: white;padding-right: 0.2em;padding-left: 0.2em;position: relative;}#sk-container-id-1 div.sk-item {position: relative;z-index: 1;}#sk-container-id-1 div.sk-parallel {display: flex;align-items: stretch;justify-content: center;background-color: white;position: relative;}#sk-container-id-1 div.sk-item::before, #sk-container-id-1 div.sk-parallel-item::before {content: \"\";position: absolute;border-left: 1px solid gray;box-sizing: border-box;top: 0;bottom: 0;left: 50%;z-index: -1;}#sk-container-id-1 div.sk-parallel-item {display: flex;flex-direction: column;z-index: 1;position: relative;background-color: white;}#sk-container-id-1 div.sk-parallel-item:first-child::after {align-self: flex-end;width: 50%;}#sk-container-id-1 div.sk-parallel-item:last-child::after {align-self: flex-start;width: 50%;}#sk-container-id-1 div.sk-parallel-item:only-child::after {width: 0;}#sk-container-id-1 div.sk-dashed-wrapped {border: 1px dashed gray;margin: 0 0.4em 0.5em 0.4em;box-sizing: border-box;padding-bottom: 0.4em;background-color: white;}#sk-container-id-1 div.sk-label label {font-family: monospace;font-weight: bold;display: inline-block;line-height: 1.2em;}#sk-container-id-1 div.sk-label-container {text-align: center;}#sk-container-id-1 div.sk-container {/* jupyter's `normalize.less` sets `[hidden] { display: none; }` but bootstrap.min.css set `[hidden] { display: none !important; }` so we also need the `!important` here to be able to override the default hidden behavior on the sphinx rendered scikit-learn.org. See: https://github.com/scikit-learn/scikit-learn/issues/21755 */display: inline-block !important;position: relative;}#sk-container-id-1 div.sk-text-repr-fallback {display: none;}</style><div id=\"sk-container-id-1\" class=\"sk-top-container\"><div class=\"sk-text-repr-fallback\"><pre>SelectKBest(k=&#x27;all&#x27;,\n",
       "            score_func=&lt;function mutual_info_regression at 0x7f8571491280&gt;)</pre><b>In a Jupyter environment, please rerun this cell to show the HTML representation or trust the notebook. <br />On GitHub, the HTML representation is unable to render, please try loading this page with nbviewer.org.</b></div><div class=\"sk-container\" hidden><div class=\"sk-item\"><div class=\"sk-estimator sk-toggleable\"><input class=\"sk-toggleable__control sk-hidden--visually\" id=\"sk-estimator-id-1\" type=\"checkbox\" checked><label for=\"sk-estimator-id-1\" class=\"sk-toggleable__label sk-toggleable__label-arrow\">SelectKBest</label><div class=\"sk-toggleable__content\"><pre>SelectKBest(k=&#x27;all&#x27;,\n",
       "            score_func=&lt;function mutual_info_regression at 0x7f8571491280&gt;)</pre></div></div></div></div></div>"
      ],
      "text/plain": [
       "SelectKBest(k='all',\n",
       "            score_func=<function mutual_info_regression at 0x7f8571491280>)"
      ]
     },
     "execution_count": 39,
     "metadata": {},
     "output_type": "execute_result"
    }
   ],
   "source": [
    "fs = SelectKBest(score_func=mutual_info_regression, k='all')\n",
    "# learn relationship from training data\n",
    "fs.fit(train_train[cont_feats], train_train['SalePrice'])"
   ]
  },
  {
   "cell_type": "code",
   "execution_count": 40,
   "id": "ff779eb6",
   "metadata": {
    "ExecuteTime": {
     "end_time": "2022-06-21T12:53:05.638599Z",
     "start_time": "2022-06-21T12:53:05.629222Z"
    },
    "scrolled": true
   },
   "outputs": [],
   "source": [
    "correlations = correlations.merge(pd.DataFrame(dict(zip(cont_feats, fs.scores_)), \n",
    "                                index=['Mutual Info']).T, left_index=True,right_index=True)"
   ]
  },
  {
   "cell_type": "code",
   "execution_count": 41,
   "id": "0f084968",
   "metadata": {
    "ExecuteTime": {
     "end_time": "2022-06-21T12:53:05.680982Z",
     "start_time": "2022-06-21T12:53:05.660769Z"
    },
    "scrolled": true
   },
   "outputs": [
    {
     "data": {
      "text/html": [
       "<div>\n",
       "<style scoped>\n",
       "    .dataframe tbody tr th:only-of-type {\n",
       "        vertical-align: middle;\n",
       "    }\n",
       "\n",
       "    .dataframe tbody tr th {\n",
       "        vertical-align: top;\n",
       "    }\n",
       "\n",
       "    .dataframe thead th {\n",
       "        text-align: right;\n",
       "    }\n",
       "</style>\n",
       "<table border=\"1\" class=\"dataframe\">\n",
       "  <thead>\n",
       "    <tr style=\"text-align: right;\">\n",
       "      <th></th>\n",
       "      <th>spearman</th>\n",
       "      <th>pearson</th>\n",
       "      <th>Mutual Info</th>\n",
       "    </tr>\n",
       "  </thead>\n",
       "  <tbody>\n",
       "    <tr>\n",
       "      <th>LotFrontage</th>\n",
       "      <td>0.396601</td>\n",
       "      <td>0.355130</td>\n",
       "      <td>0.201248</td>\n",
       "    </tr>\n",
       "    <tr>\n",
       "      <th>LotArea</th>\n",
       "      <td>0.465685</td>\n",
       "      <td>0.263516</td>\n",
       "      <td>0.183962</td>\n",
       "    </tr>\n",
       "    <tr>\n",
       "      <th>YearBuilt</th>\n",
       "      <td>0.623777</td>\n",
       "      <td>0.493511</td>\n",
       "      <td>0.303436</td>\n",
       "    </tr>\n",
       "    <tr>\n",
       "      <th>YearRemodAdd</th>\n",
       "      <td>0.563423</td>\n",
       "      <td>0.496131</td>\n",
       "      <td>0.235035</td>\n",
       "    </tr>\n",
       "    <tr>\n",
       "      <th>MasVnrArea</th>\n",
       "      <td>0.401500</td>\n",
       "      <td>0.439390</td>\n",
       "      <td>0.090104</td>\n",
       "    </tr>\n",
       "    <tr>\n",
       "      <th>BsmtFinSF1</th>\n",
       "      <td>0.313643</td>\n",
       "      <td>0.386856</td>\n",
       "      <td>0.147956</td>\n",
       "    </tr>\n",
       "    <tr>\n",
       "      <th>BsmtUnfSF</th>\n",
       "      <td>0.159894</td>\n",
       "      <td>0.191081</td>\n",
       "      <td>0.127907</td>\n",
       "    </tr>\n",
       "    <tr>\n",
       "      <th>TotalBsmtSF</th>\n",
       "      <td>0.598535</td>\n",
       "      <td>0.592082</td>\n",
       "      <td>0.343873</td>\n",
       "    </tr>\n",
       "    <tr>\n",
       "      <th>1stFlrSF</th>\n",
       "      <td>0.575325</td>\n",
       "      <td>0.588855</td>\n",
       "      <td>0.272822</td>\n",
       "    </tr>\n",
       "    <tr>\n",
       "      <th>2ndFlrSF</th>\n",
       "      <td>0.290417</td>\n",
       "      <td>0.318426</td>\n",
       "      <td>0.209548</td>\n",
       "    </tr>\n",
       "    <tr>\n",
       "      <th>GrLivArea</th>\n",
       "      <td>0.720811</td>\n",
       "      <td>0.687534</td>\n",
       "      <td>0.469653</td>\n",
       "    </tr>\n",
       "    <tr>\n",
       "      <th>BsmtFullBath</th>\n",
       "      <td>0.249930</td>\n",
       "      <td>0.249969</td>\n",
       "      <td>0.031512</td>\n",
       "    </tr>\n",
       "    <tr>\n",
       "      <th>FullBath</th>\n",
       "      <td>0.618257</td>\n",
       "      <td>0.543254</td>\n",
       "      <td>0.266118</td>\n",
       "    </tr>\n",
       "    <tr>\n",
       "      <th>HalfBath</th>\n",
       "      <td>0.332389</td>\n",
       "      <td>0.287198</td>\n",
       "      <td>0.082514</td>\n",
       "    </tr>\n",
       "    <tr>\n",
       "      <th>BedroomAbvGr</th>\n",
       "      <td>0.222692</td>\n",
       "      <td>0.158910</td>\n",
       "      <td>0.078786</td>\n",
       "    </tr>\n",
       "    <tr>\n",
       "      <th>TotRmsAbvGrd</th>\n",
       "      <td>0.506894</td>\n",
       "      <td>0.526142</td>\n",
       "      <td>0.156947</td>\n",
       "    </tr>\n",
       "    <tr>\n",
       "      <th>Fireplaces</th>\n",
       "      <td>0.512001</td>\n",
       "      <td>0.464573</td>\n",
       "      <td>0.179937</td>\n",
       "    </tr>\n",
       "    <tr>\n",
       "      <th>GarageYrBlt</th>\n",
       "      <td>0.536721</td>\n",
       "      <td>0.440324</td>\n",
       "      <td>0.270272</td>\n",
       "    </tr>\n",
       "    <tr>\n",
       "      <th>GarageCars</th>\n",
       "      <td>0.694989</td>\n",
       "      <td>0.643922</td>\n",
       "      <td>0.370980</td>\n",
       "    </tr>\n",
       "    <tr>\n",
       "      <th>GarageArea</th>\n",
       "      <td>0.647660</td>\n",
       "      <td>0.623871</td>\n",
       "      <td>0.385221</td>\n",
       "    </tr>\n",
       "    <tr>\n",
       "      <th>WoodDeckSF</th>\n",
       "      <td>0.341776</td>\n",
       "      <td>0.304333</td>\n",
       "      <td>0.095929</td>\n",
       "    </tr>\n",
       "    <tr>\n",
       "      <th>OpenPorchSF</th>\n",
       "      <td>0.472194</td>\n",
       "      <td>0.322037</td>\n",
       "      <td>0.154019</td>\n",
       "    </tr>\n",
       "    <tr>\n",
       "      <th>YrSold</th>\n",
       "      <td>0.029996</td>\n",
       "      <td>0.023219</td>\n",
       "      <td>0.025604</td>\n",
       "    </tr>\n",
       "    <tr>\n",
       "      <th>FEAT_ratio_bed_bath</th>\n",
       "      <td>0.532879</td>\n",
       "      <td>0.431177</td>\n",
       "      <td>0.266986</td>\n",
       "    </tr>\n",
       "    <tr>\n",
       "      <th>FEAT_pct_lotarea_house</th>\n",
       "      <td>0.005942</td>\n",
       "      <td>0.034699</td>\n",
       "      <td>0.011828</td>\n",
       "    </tr>\n",
       "    <tr>\n",
       "      <th>FEAT_age_of_house</th>\n",
       "      <td>0.621290</td>\n",
       "      <td>0.493265</td>\n",
       "      <td>0.284300</td>\n",
       "    </tr>\n",
       "    <tr>\n",
       "      <th>FEAT_pct_bsmt_unfinished</th>\n",
       "      <td>0.125192</td>\n",
       "      <td>0.124686</td>\n",
       "      <td>0.054645</td>\n",
       "    </tr>\n",
       "    <tr>\n",
       "      <th>FEAT_has_remodel</th>\n",
       "      <td>0.090306</td>\n",
       "      <td>0.032770</td>\n",
       "      <td>0.002334</td>\n",
       "    </tr>\n",
       "  </tbody>\n",
       "</table>\n",
       "</div>"
      ],
      "text/plain": [
       "                          spearman   pearson  Mutual Info\n",
       "LotFrontage               0.396601  0.355130     0.201248\n",
       "LotArea                   0.465685  0.263516     0.183962\n",
       "YearBuilt                 0.623777  0.493511     0.303436\n",
       "YearRemodAdd              0.563423  0.496131     0.235035\n",
       "MasVnrArea                0.401500  0.439390     0.090104\n",
       "BsmtFinSF1                0.313643  0.386856     0.147956\n",
       "BsmtUnfSF                 0.159894  0.191081     0.127907\n",
       "TotalBsmtSF               0.598535  0.592082     0.343873\n",
       "1stFlrSF                  0.575325  0.588855     0.272822\n",
       "2ndFlrSF                  0.290417  0.318426     0.209548\n",
       "GrLivArea                 0.720811  0.687534     0.469653\n",
       "BsmtFullBath              0.249930  0.249969     0.031512\n",
       "FullBath                  0.618257  0.543254     0.266118\n",
       "HalfBath                  0.332389  0.287198     0.082514\n",
       "BedroomAbvGr              0.222692  0.158910     0.078786\n",
       "TotRmsAbvGrd              0.506894  0.526142     0.156947\n",
       "Fireplaces                0.512001  0.464573     0.179937\n",
       "GarageYrBlt               0.536721  0.440324     0.270272\n",
       "GarageCars                0.694989  0.643922     0.370980\n",
       "GarageArea                0.647660  0.623871     0.385221\n",
       "WoodDeckSF                0.341776  0.304333     0.095929\n",
       "OpenPorchSF               0.472194  0.322037     0.154019\n",
       "YrSold                    0.029996  0.023219     0.025604\n",
       "FEAT_ratio_bed_bath       0.532879  0.431177     0.266986\n",
       "FEAT_pct_lotarea_house    0.005942  0.034699     0.011828\n",
       "FEAT_age_of_house         0.621290  0.493265     0.284300\n",
       "FEAT_pct_bsmt_unfinished  0.125192  0.124686     0.054645\n",
       "FEAT_has_remodel          0.090306  0.032770     0.002334"
      ]
     },
     "execution_count": 41,
     "metadata": {},
     "output_type": "execute_result"
    }
   ],
   "source": [
    "correlations"
   ]
  },
  {
   "cell_type": "markdown",
   "id": "92a6be26",
   "metadata": {},
   "source": [
    "### kendalls (categorical features)\n",
    "\n",
    "here i am lazy and label encoding, and then assuming the ranks are ordered..."
   ]
  },
  {
   "cell_type": "code",
   "execution_count": 42,
   "id": "1f3b3d53",
   "metadata": {
    "ExecuteTime": {
     "end_time": "2022-06-21T12:53:05.744390Z",
     "start_time": "2022-06-21T12:53:05.688405Z"
    }
   },
   "outputs": [],
   "source": [
    "# we know the relative rankings for these\n",
    "rankings= {'MISSING': -1,\n",
    "    'Ex': 5,\n",
    "'Gd': 4,\n",
    "'TA': 3,\n",
    "'Fa': 2,\n",
    "'Po': 1}\n",
    "\n",
    "for col in ['ExterQual','BsmtQual','HeatingQC','KitchenQual','FireplaceQu']:\n",
    "    train_train[col] = train_train[col].replace(rankings)\n",
    "    train_test[col] = train_test[col].replace(rankings)\n",
    "    test[col] = test[col].replace(rankings)"
   ]
  },
  {
   "cell_type": "code",
   "execution_count": 43,
   "id": "5c35c435",
   "metadata": {
    "ExecuteTime": {
     "end_time": "2022-06-21T12:53:05.762385Z",
     "start_time": "2022-06-21T12:53:05.750764Z"
    }
   },
   "outputs": [],
   "source": [
    "# would be better to maybe do a one hot encoder here..."
   ]
  },
  {
   "cell_type": "code",
   "execution_count": 44,
   "id": "a410c0f7",
   "metadata": {
    "ExecuteTime": {
     "end_time": "2022-06-21T12:53:05.779994Z",
     "start_time": "2022-06-21T12:53:05.773940Z"
    }
   },
   "outputs": [],
   "source": [
    "cols_to_impute = [i for i in data_dict['categorical'] if i not in ['ExterQual',\n",
    "                                                                  'BsmtQual',\n",
    "                                                                  'HeatingQC',\n",
    "                                                                  'KitchenQual',\n",
    "                                                                  'FireplaceQu', \n",
    "                                                                  'OverallCond',\n",
    "                                                                  'OverallQual',\t\n",
    "                                                                  'MoSold',\t\n",
    "                                                                  'MSSubClass']]\n",
    "\n",
    "\n",
    "    "
   ]
  },
  {
   "cell_type": "code",
   "execution_count": 45,
   "id": "f021719c",
   "metadata": {
    "ExecuteTime": {
     "end_time": "2022-06-21T12:53:05.797411Z",
     "start_time": "2022-06-21T12:53:05.788234Z"
    },
    "scrolled": true
   },
   "outputs": [
    {
     "data": {
      "text/plain": [
       "['MSZoning',\n",
       " 'LotShape',\n",
       " 'LotConfig',\n",
       " 'Neighborhood',\n",
       " 'HouseStyle',\n",
       " 'RoofStyle',\n",
       " 'Exterior1st',\n",
       " 'Exterior2nd',\n",
       " 'MasVnrType',\n",
       " 'Foundation',\n",
       " 'BsmtExposure',\n",
       " 'BsmtFinType1',\n",
       " 'GarageType',\n",
       " 'GarageFinish']"
      ]
     },
     "execution_count": 45,
     "metadata": {},
     "output_type": "execute_result"
    }
   ],
   "source": [
    "cols_to_impute"
   ]
  },
  {
   "cell_type": "code",
   "execution_count": 46,
   "id": "f44afca5",
   "metadata": {
    "ExecuteTime": {
     "end_time": "2022-06-21T12:53:05.874196Z",
     "start_time": "2022-06-21T12:53:05.806578Z"
    }
   },
   "outputs": [],
   "source": [
    "from sklearn.preprocessing import OrdinalEncoder\n",
    "\n",
    "ordinal_encoder = OrdinalEncoder(handle_unknown='use_encoded_value',\n",
    "                                 unknown_value=-1)\n",
    "\n",
    "train_train[cols_to_impute] = ordinal_encoder.fit_transform(train_train[cols_to_impute] )\n",
    "train_test[cols_to_impute] = ordinal_encoder.transform(train_test[cols_to_impute] )\n",
    "test[cols_to_impute] = ordinal_encoder.transform(test[cols_to_impute] )"
   ]
  },
  {
   "cell_type": "code",
   "execution_count": 47,
   "id": "73a1bd73",
   "metadata": {
    "ExecuteTime": {
     "end_time": "2022-06-21T12:53:05.914665Z",
     "start_time": "2022-06-21T12:53:05.877999Z"
    }
   },
   "outputs": [
    {
     "data": {
      "text/html": [
       "<div>\n",
       "<style scoped>\n",
       "    .dataframe tbody tr th:only-of-type {\n",
       "        vertical-align: middle;\n",
       "    }\n",
       "\n",
       "    .dataframe tbody tr th {\n",
       "        vertical-align: top;\n",
       "    }\n",
       "\n",
       "    .dataframe thead th {\n",
       "        text-align: right;\n",
       "    }\n",
       "</style>\n",
       "<table border=\"1\" class=\"dataframe\">\n",
       "  <thead>\n",
       "    <tr style=\"text-align: right;\">\n",
       "      <th></th>\n",
       "      <th>MSZoning</th>\n",
       "      <th>LotShape</th>\n",
       "      <th>LotConfig</th>\n",
       "      <th>Neighborhood</th>\n",
       "      <th>HouseStyle</th>\n",
       "      <th>RoofStyle</th>\n",
       "      <th>Exterior1st</th>\n",
       "      <th>Exterior2nd</th>\n",
       "      <th>MasVnrType</th>\n",
       "      <th>Foundation</th>\n",
       "      <th>BsmtExposure</th>\n",
       "      <th>BsmtFinType1</th>\n",
       "      <th>GarageType</th>\n",
       "      <th>GarageFinish</th>\n",
       "    </tr>\n",
       "  </thead>\n",
       "  <tbody>\n",
       "    <tr>\n",
       "      <th>406</th>\n",
       "      <td>3.0</td>\n",
       "      <td>3.0</td>\n",
       "      <td>4.0</td>\n",
       "      <td>18.0</td>\n",
       "      <td>0.0</td>\n",
       "      <td>1.0</td>\n",
       "      <td>8.0</td>\n",
       "      <td>8.0</td>\n",
       "      <td>3.0</td>\n",
       "      <td>0.0</td>\n",
       "      <td>4.0</td>\n",
       "      <td>6.0</td>\n",
       "      <td>5.0</td>\n",
       "      <td>3.0</td>\n",
       "    </tr>\n",
       "    <tr>\n",
       "      <th>446</th>\n",
       "      <td>3.0</td>\n",
       "      <td>0.0</td>\n",
       "      <td>0.0</td>\n",
       "      <td>12.0</td>\n",
       "      <td>2.0</td>\n",
       "      <td>1.0</td>\n",
       "      <td>3.0</td>\n",
       "      <td>10.0</td>\n",
       "      <td>3.0</td>\n",
       "      <td>1.0</td>\n",
       "      <td>4.0</td>\n",
       "      <td>0.0</td>\n",
       "      <td>1.0</td>\n",
       "      <td>0.0</td>\n",
       "    </tr>\n",
       "    <tr>\n",
       "      <th>929</th>\n",
       "      <td>3.0</td>\n",
       "      <td>0.0</td>\n",
       "      <td>0.0</td>\n",
       "      <td>8.0</td>\n",
       "      <td>5.0</td>\n",
       "      <td>1.0</td>\n",
       "      <td>6.0</td>\n",
       "      <td>6.0</td>\n",
       "      <td>1.0</td>\n",
       "      <td>2.0</td>\n",
       "      <td>4.0</td>\n",
       "      <td>6.0</td>\n",
       "      <td>3.0</td>\n",
       "      <td>0.0</td>\n",
       "    </tr>\n",
       "    <tr>\n",
       "      <th>926</th>\n",
       "      <td>3.0</td>\n",
       "      <td>3.0</td>\n",
       "      <td>4.0</td>\n",
       "      <td>16.0</td>\n",
       "      <td>5.0</td>\n",
       "      <td>3.0</td>\n",
       "      <td>12.0</td>\n",
       "      <td>13.0</td>\n",
       "      <td>1.0</td>\n",
       "      <td>2.0</td>\n",
       "      <td>4.0</td>\n",
       "      <td>6.0</td>\n",
       "      <td>3.0</td>\n",
       "      <td>0.0</td>\n",
       "    </tr>\n",
       "    <tr>\n",
       "      <th>897</th>\n",
       "      <td>3.0</td>\n",
       "      <td>3.0</td>\n",
       "      <td>4.0</td>\n",
       "      <td>20.0</td>\n",
       "      <td>5.0</td>\n",
       "      <td>1.0</td>\n",
       "      <td>9.0</td>\n",
       "      <td>10.0</td>\n",
       "      <td>3.0</td>\n",
       "      <td>3.0</td>\n",
       "      <td>2.0</td>\n",
       "      <td>4.0</td>\n",
       "      <td>5.0</td>\n",
       "      <td>3.0</td>\n",
       "    </tr>\n",
       "    <tr>\n",
       "      <th>...</th>\n",
       "      <td>...</td>\n",
       "      <td>...</td>\n",
       "      <td>...</td>\n",
       "      <td>...</td>\n",
       "      <td>...</td>\n",
       "      <td>...</td>\n",
       "      <td>...</td>\n",
       "      <td>...</td>\n",
       "      <td>...</td>\n",
       "      <td>...</td>\n",
       "      <td>...</td>\n",
       "      <td>...</td>\n",
       "      <td>...</td>\n",
       "      <td>...</td>\n",
       "    </tr>\n",
       "    <tr>\n",
       "      <th>500</th>\n",
       "      <td>4.0</td>\n",
       "      <td>3.0</td>\n",
       "      <td>4.0</td>\n",
       "      <td>2.0</td>\n",
       "      <td>5.0</td>\n",
       "      <td>1.0</td>\n",
       "      <td>6.0</td>\n",
       "      <td>6.0</td>\n",
       "      <td>1.0</td>\n",
       "      <td>1.0</td>\n",
       "      <td>4.0</td>\n",
       "      <td>1.0</td>\n",
       "      <td>5.0</td>\n",
       "      <td>3.0</td>\n",
       "    </tr>\n",
       "    <tr>\n",
       "      <th>198</th>\n",
       "      <td>4.0</td>\n",
       "      <td>3.0</td>\n",
       "      <td>0.0</td>\n",
       "      <td>17.0</td>\n",
       "      <td>3.0</td>\n",
       "      <td>1.0</td>\n",
       "      <td>13.0</td>\n",
       "      <td>14.0</td>\n",
       "      <td>3.0</td>\n",
       "      <td>1.0</td>\n",
       "      <td>4.0</td>\n",
       "      <td>6.0</td>\n",
       "      <td>6.0</td>\n",
       "      <td>1.0</td>\n",
       "    </tr>\n",
       "    <tr>\n",
       "      <th>814</th>\n",
       "      <td>3.0</td>\n",
       "      <td>3.0</td>\n",
       "      <td>4.0</td>\n",
       "      <td>7.0</td>\n",
       "      <td>0.0</td>\n",
       "      <td>1.0</td>\n",
       "      <td>11.0</td>\n",
       "      <td>12.0</td>\n",
       "      <td>3.0</td>\n",
       "      <td>0.0</td>\n",
       "      <td>4.0</td>\n",
       "      <td>6.0</td>\n",
       "      <td>5.0</td>\n",
       "      <td>3.0</td>\n",
       "    </tr>\n",
       "    <tr>\n",
       "      <th>544</th>\n",
       "      <td>3.0</td>\n",
       "      <td>0.0</td>\n",
       "      <td>4.0</td>\n",
       "      <td>8.0</td>\n",
       "      <td>5.0</td>\n",
       "      <td>1.0</td>\n",
       "      <td>12.0</td>\n",
       "      <td>13.0</td>\n",
       "      <td>3.0</td>\n",
       "      <td>2.0</td>\n",
       "      <td>0.0</td>\n",
       "      <td>2.0</td>\n",
       "      <td>1.0</td>\n",
       "      <td>2.0</td>\n",
       "    </tr>\n",
       "    <tr>\n",
       "      <th>1319</th>\n",
       "      <td>3.0</td>\n",
       "      <td>3.0</td>\n",
       "      <td>4.0</td>\n",
       "      <td>7.0</td>\n",
       "      <td>2.0</td>\n",
       "      <td>3.0</td>\n",
       "      <td>13.0</td>\n",
       "      <td>14.0</td>\n",
       "      <td>1.0</td>\n",
       "      <td>2.0</td>\n",
       "      <td>4.0</td>\n",
       "      <td>0.0</td>\n",
       "      <td>1.0</td>\n",
       "      <td>3.0</td>\n",
       "    </tr>\n",
       "  </tbody>\n",
       "</table>\n",
       "<p>1022 rows × 14 columns</p>\n",
       "</div>"
      ],
      "text/plain": [
       "      MSZoning  LotShape  LotConfig  Neighborhood  HouseStyle  RoofStyle  \\\n",
       "406        3.0       3.0        4.0          18.0         0.0        1.0   \n",
       "446        3.0       0.0        0.0          12.0         2.0        1.0   \n",
       "929        3.0       0.0        0.0           8.0         5.0        1.0   \n",
       "926        3.0       3.0        4.0          16.0         5.0        3.0   \n",
       "897        3.0       3.0        4.0          20.0         5.0        1.0   \n",
       "...        ...       ...        ...           ...         ...        ...   \n",
       "500        4.0       3.0        4.0           2.0         5.0        1.0   \n",
       "198        4.0       3.0        0.0          17.0         3.0        1.0   \n",
       "814        3.0       3.0        4.0           7.0         0.0        1.0   \n",
       "544        3.0       0.0        4.0           8.0         5.0        1.0   \n",
       "1319       3.0       3.0        4.0           7.0         2.0        3.0   \n",
       "\n",
       "      Exterior1st  Exterior2nd  MasVnrType  Foundation  BsmtExposure  \\\n",
       "406           8.0          8.0         3.0         0.0           4.0   \n",
       "446           3.0         10.0         3.0         1.0           4.0   \n",
       "929           6.0          6.0         1.0         2.0           4.0   \n",
       "926          12.0         13.0         1.0         2.0           4.0   \n",
       "897           9.0         10.0         3.0         3.0           2.0   \n",
       "...           ...          ...         ...         ...           ...   \n",
       "500           6.0          6.0         1.0         1.0           4.0   \n",
       "198          13.0         14.0         3.0         1.0           4.0   \n",
       "814          11.0         12.0         3.0         0.0           4.0   \n",
       "544          12.0         13.0         3.0         2.0           0.0   \n",
       "1319         13.0         14.0         1.0         2.0           4.0   \n",
       "\n",
       "      BsmtFinType1  GarageType  GarageFinish  \n",
       "406            6.0         5.0           3.0  \n",
       "446            0.0         1.0           0.0  \n",
       "929            6.0         3.0           0.0  \n",
       "926            6.0         3.0           0.0  \n",
       "897            4.0         5.0           3.0  \n",
       "...            ...         ...           ...  \n",
       "500            1.0         5.0           3.0  \n",
       "198            6.0         6.0           1.0  \n",
       "814            6.0         5.0           3.0  \n",
       "544            2.0         1.0           2.0  \n",
       "1319           0.0         1.0           3.0  \n",
       "\n",
       "[1022 rows x 14 columns]"
      ]
     },
     "execution_count": 47,
     "metadata": {},
     "output_type": "execute_result"
    }
   ],
   "source": [
    "train_train[cols_to_impute] "
   ]
  },
  {
   "cell_type": "code",
   "execution_count": 48,
   "id": "c3acec0e",
   "metadata": {
    "ExecuteTime": {
     "end_time": "2022-06-21T12:53:06.181276Z",
     "start_time": "2022-06-21T12:53:05.921533Z"
    },
    "scrolled": true
   },
   "outputs": [],
   "source": [
    "correlations = correlations.merge(train_train[data_dict['categorical']+['SalePrice']].corr(\n",
    "    method='kendall')['SalePrice'].abs().to_frame('kendells'), \n",
    "                   left_index=True, \n",
    "                   right_index=True, how= 'outer')"
   ]
  },
  {
   "cell_type": "code",
   "execution_count": 49,
   "id": "e4f0859c",
   "metadata": {
    "ExecuteTime": {
     "end_time": "2022-06-21T12:53:06.206468Z",
     "start_time": "2022-06-21T12:53:06.185861Z"
    }
   },
   "outputs": [
    {
     "data": {
      "text/html": [
       "<div>\n",
       "<style scoped>\n",
       "    .dataframe tbody tr th:only-of-type {\n",
       "        vertical-align: middle;\n",
       "    }\n",
       "\n",
       "    .dataframe tbody tr th {\n",
       "        vertical-align: top;\n",
       "    }\n",
       "\n",
       "    .dataframe thead th {\n",
       "        text-align: right;\n",
       "    }\n",
       "</style>\n",
       "<table border=\"1\" class=\"dataframe\">\n",
       "  <thead>\n",
       "    <tr style=\"text-align: right;\">\n",
       "      <th></th>\n",
       "      <th>spearman</th>\n",
       "      <th>pearson</th>\n",
       "      <th>Mutual Info</th>\n",
       "      <th>kendells</th>\n",
       "    </tr>\n",
       "  </thead>\n",
       "  <tbody>\n",
       "    <tr>\n",
       "      <th>1stFlrSF</th>\n",
       "      <td>0.575325</td>\n",
       "      <td>0.588855</td>\n",
       "      <td>0.272822</td>\n",
       "      <td>NaN</td>\n",
       "    </tr>\n",
       "    <tr>\n",
       "      <th>2ndFlrSF</th>\n",
       "      <td>0.290417</td>\n",
       "      <td>0.318426</td>\n",
       "      <td>0.209548</td>\n",
       "      <td>NaN</td>\n",
       "    </tr>\n",
       "    <tr>\n",
       "      <th>BedroomAbvGr</th>\n",
       "      <td>0.222692</td>\n",
       "      <td>0.158910</td>\n",
       "      <td>0.078786</td>\n",
       "      <td>NaN</td>\n",
       "    </tr>\n",
       "    <tr>\n",
       "      <th>BsmtExposure</th>\n",
       "      <td>NaN</td>\n",
       "      <td>NaN</td>\n",
       "      <td>NaN</td>\n",
       "      <td>0.170830</td>\n",
       "    </tr>\n",
       "    <tr>\n",
       "      <th>BsmtFinSF1</th>\n",
       "      <td>0.313643</td>\n",
       "      <td>0.386856</td>\n",
       "      <td>0.147956</td>\n",
       "      <td>NaN</td>\n",
       "    </tr>\n",
       "    <tr>\n",
       "      <th>BsmtFinType1</th>\n",
       "      <td>NaN</td>\n",
       "      <td>NaN</td>\n",
       "      <td>NaN</td>\n",
       "      <td>0.051452</td>\n",
       "    </tr>\n",
       "    <tr>\n",
       "      <th>BsmtFullBath</th>\n",
       "      <td>0.249930</td>\n",
       "      <td>0.249969</td>\n",
       "      <td>0.031512</td>\n",
       "      <td>NaN</td>\n",
       "    </tr>\n",
       "    <tr>\n",
       "      <th>BsmtQual</th>\n",
       "      <td>NaN</td>\n",
       "      <td>NaN</td>\n",
       "      <td>NaN</td>\n",
       "      <td>0.552495</td>\n",
       "    </tr>\n",
       "    <tr>\n",
       "      <th>BsmtUnfSF</th>\n",
       "      <td>0.159894</td>\n",
       "      <td>0.191081</td>\n",
       "      <td>0.127907</td>\n",
       "      <td>NaN</td>\n",
       "    </tr>\n",
       "    <tr>\n",
       "      <th>ExterQual</th>\n",
       "      <td>NaN</td>\n",
       "      <td>NaN</td>\n",
       "      <td>NaN</td>\n",
       "      <td>0.560297</td>\n",
       "    </tr>\n",
       "    <tr>\n",
       "      <th>Exterior1st</th>\n",
       "      <td>NaN</td>\n",
       "      <td>NaN</td>\n",
       "      <td>NaN</td>\n",
       "      <td>0.043934</td>\n",
       "    </tr>\n",
       "    <tr>\n",
       "      <th>Exterior2nd</th>\n",
       "      <td>NaN</td>\n",
       "      <td>NaN</td>\n",
       "      <td>NaN</td>\n",
       "      <td>0.041560</td>\n",
       "    </tr>\n",
       "    <tr>\n",
       "      <th>FEAT_age_of_house</th>\n",
       "      <td>0.621290</td>\n",
       "      <td>0.493265</td>\n",
       "      <td>0.284300</td>\n",
       "      <td>NaN</td>\n",
       "    </tr>\n",
       "    <tr>\n",
       "      <th>FEAT_has_remodel</th>\n",
       "      <td>0.090306</td>\n",
       "      <td>0.032770</td>\n",
       "      <td>0.002334</td>\n",
       "      <td>NaN</td>\n",
       "    </tr>\n",
       "    <tr>\n",
       "      <th>FEAT_pct_bsmt_unfinished</th>\n",
       "      <td>0.125192</td>\n",
       "      <td>0.124686</td>\n",
       "      <td>0.054645</td>\n",
       "      <td>NaN</td>\n",
       "    </tr>\n",
       "    <tr>\n",
       "      <th>FEAT_pct_lotarea_house</th>\n",
       "      <td>0.005942</td>\n",
       "      <td>0.034699</td>\n",
       "      <td>0.011828</td>\n",
       "      <td>NaN</td>\n",
       "    </tr>\n",
       "    <tr>\n",
       "      <th>FEAT_ratio_bed_bath</th>\n",
       "      <td>0.532879</td>\n",
       "      <td>0.431177</td>\n",
       "      <td>0.266986</td>\n",
       "      <td>NaN</td>\n",
       "    </tr>\n",
       "    <tr>\n",
       "      <th>FireplaceQu</th>\n",
       "      <td>NaN</td>\n",
       "      <td>NaN</td>\n",
       "      <td>NaN</td>\n",
       "      <td>0.406089</td>\n",
       "    </tr>\n",
       "    <tr>\n",
       "      <th>Fireplaces</th>\n",
       "      <td>0.512001</td>\n",
       "      <td>0.464573</td>\n",
       "      <td>0.179937</td>\n",
       "      <td>NaN</td>\n",
       "    </tr>\n",
       "    <tr>\n",
       "      <th>Foundation</th>\n",
       "      <td>NaN</td>\n",
       "      <td>NaN</td>\n",
       "      <td>NaN</td>\n",
       "      <td>0.377827</td>\n",
       "    </tr>\n",
       "    <tr>\n",
       "      <th>FullBath</th>\n",
       "      <td>0.618257</td>\n",
       "      <td>0.543254</td>\n",
       "      <td>0.266118</td>\n",
       "      <td>NaN</td>\n",
       "    </tr>\n",
       "    <tr>\n",
       "      <th>GarageArea</th>\n",
       "      <td>0.647660</td>\n",
       "      <td>0.623871</td>\n",
       "      <td>0.385221</td>\n",
       "      <td>NaN</td>\n",
       "    </tr>\n",
       "    <tr>\n",
       "      <th>GarageCars</th>\n",
       "      <td>0.694989</td>\n",
       "      <td>0.643922</td>\n",
       "      <td>0.370980</td>\n",
       "      <td>NaN</td>\n",
       "    </tr>\n",
       "    <tr>\n",
       "      <th>GarageFinish</th>\n",
       "      <td>NaN</td>\n",
       "      <td>NaN</td>\n",
       "      <td>NaN</td>\n",
       "      <td>0.356350</td>\n",
       "    </tr>\n",
       "    <tr>\n",
       "      <th>GarageType</th>\n",
       "      <td>NaN</td>\n",
       "      <td>NaN</td>\n",
       "      <td>NaN</td>\n",
       "      <td>0.414232</td>\n",
       "    </tr>\n",
       "    <tr>\n",
       "      <th>GarageYrBlt</th>\n",
       "      <td>0.536721</td>\n",
       "      <td>0.440324</td>\n",
       "      <td>0.270272</td>\n",
       "      <td>NaN</td>\n",
       "    </tr>\n",
       "    <tr>\n",
       "      <th>GrLivArea</th>\n",
       "      <td>0.720811</td>\n",
       "      <td>0.687534</td>\n",
       "      <td>0.469653</td>\n",
       "      <td>NaN</td>\n",
       "    </tr>\n",
       "    <tr>\n",
       "      <th>HalfBath</th>\n",
       "      <td>0.332389</td>\n",
       "      <td>0.287198</td>\n",
       "      <td>0.082514</td>\n",
       "      <td>NaN</td>\n",
       "    </tr>\n",
       "    <tr>\n",
       "      <th>HeatingQC</th>\n",
       "      <td>NaN</td>\n",
       "      <td>NaN</td>\n",
       "      <td>NaN</td>\n",
       "      <td>0.376202</td>\n",
       "    </tr>\n",
       "    <tr>\n",
       "      <th>HouseStyle</th>\n",
       "      <td>NaN</td>\n",
       "      <td>NaN</td>\n",
       "      <td>NaN</td>\n",
       "      <td>0.177094</td>\n",
       "    </tr>\n",
       "    <tr>\n",
       "      <th>KitchenQual</th>\n",
       "      <td>NaN</td>\n",
       "      <td>NaN</td>\n",
       "      <td>NaN</td>\n",
       "      <td>0.552585</td>\n",
       "    </tr>\n",
       "    <tr>\n",
       "      <th>LotArea</th>\n",
       "      <td>0.465685</td>\n",
       "      <td>0.263516</td>\n",
       "      <td>0.183962</td>\n",
       "      <td>NaN</td>\n",
       "    </tr>\n",
       "    <tr>\n",
       "      <th>LotConfig</th>\n",
       "      <td>NaN</td>\n",
       "      <td>NaN</td>\n",
       "      <td>NaN</td>\n",
       "      <td>0.048874</td>\n",
       "    </tr>\n",
       "    <tr>\n",
       "      <th>LotFrontage</th>\n",
       "      <td>0.396601</td>\n",
       "      <td>0.355130</td>\n",
       "      <td>0.201248</td>\n",
       "      <td>NaN</td>\n",
       "    </tr>\n",
       "    <tr>\n",
       "      <th>LotShape</th>\n",
       "      <td>NaN</td>\n",
       "      <td>NaN</td>\n",
       "      <td>NaN</td>\n",
       "      <td>0.244118</td>\n",
       "    </tr>\n",
       "    <tr>\n",
       "      <th>MSSubClass</th>\n",
       "      <td>NaN</td>\n",
       "      <td>NaN</td>\n",
       "      <td>NaN</td>\n",
       "      <td>0.012775</td>\n",
       "    </tr>\n",
       "    <tr>\n",
       "      <th>MSZoning</th>\n",
       "      <td>NaN</td>\n",
       "      <td>NaN</td>\n",
       "      <td>NaN</td>\n",
       "      <td>0.268572</td>\n",
       "    </tr>\n",
       "    <tr>\n",
       "      <th>MasVnrArea</th>\n",
       "      <td>0.401500</td>\n",
       "      <td>0.439390</td>\n",
       "      <td>0.090104</td>\n",
       "      <td>NaN</td>\n",
       "    </tr>\n",
       "    <tr>\n",
       "      <th>MasVnrType</th>\n",
       "      <td>NaN</td>\n",
       "      <td>NaN</td>\n",
       "      <td>NaN</td>\n",
       "      <td>0.044613</td>\n",
       "    </tr>\n",
       "    <tr>\n",
       "      <th>MoSold</th>\n",
       "      <td>NaN</td>\n",
       "      <td>NaN</td>\n",
       "      <td>NaN</td>\n",
       "      <td>0.049041</td>\n",
       "    </tr>\n",
       "    <tr>\n",
       "      <th>Neighborhood</th>\n",
       "      <td>NaN</td>\n",
       "      <td>NaN</td>\n",
       "      <td>NaN</td>\n",
       "      <td>0.100881</td>\n",
       "    </tr>\n",
       "    <tr>\n",
       "      <th>OpenPorchSF</th>\n",
       "      <td>0.472194</td>\n",
       "      <td>0.322037</td>\n",
       "      <td>0.154019</td>\n",
       "      <td>NaN</td>\n",
       "    </tr>\n",
       "    <tr>\n",
       "      <th>OverallCond</th>\n",
       "      <td>NaN</td>\n",
       "      <td>NaN</td>\n",
       "      <td>NaN</td>\n",
       "      <td>0.088878</td>\n",
       "    </tr>\n",
       "    <tr>\n",
       "      <th>OverallQual</th>\n",
       "      <td>NaN</td>\n",
       "      <td>NaN</td>\n",
       "      <td>NaN</td>\n",
       "      <td>0.661269</td>\n",
       "    </tr>\n",
       "    <tr>\n",
       "      <th>RoofStyle</th>\n",
       "      <td>NaN</td>\n",
       "      <td>NaN</td>\n",
       "      <td>NaN</td>\n",
       "      <td>0.114230</td>\n",
       "    </tr>\n",
       "    <tr>\n",
       "      <th>SalePrice</th>\n",
       "      <td>NaN</td>\n",
       "      <td>NaN</td>\n",
       "      <td>NaN</td>\n",
       "      <td>1.000000</td>\n",
       "    </tr>\n",
       "    <tr>\n",
       "      <th>TotRmsAbvGrd</th>\n",
       "      <td>0.506894</td>\n",
       "      <td>0.526142</td>\n",
       "      <td>0.156947</td>\n",
       "      <td>NaN</td>\n",
       "    </tr>\n",
       "    <tr>\n",
       "      <th>TotalBsmtSF</th>\n",
       "      <td>0.598535</td>\n",
       "      <td>0.592082</td>\n",
       "      <td>0.343873</td>\n",
       "      <td>NaN</td>\n",
       "    </tr>\n",
       "    <tr>\n",
       "      <th>WoodDeckSF</th>\n",
       "      <td>0.341776</td>\n",
       "      <td>0.304333</td>\n",
       "      <td>0.095929</td>\n",
       "      <td>NaN</td>\n",
       "    </tr>\n",
       "    <tr>\n",
       "      <th>YearBuilt</th>\n",
       "      <td>0.623777</td>\n",
       "      <td>0.493511</td>\n",
       "      <td>0.303436</td>\n",
       "      <td>NaN</td>\n",
       "    </tr>\n",
       "    <tr>\n",
       "      <th>YearRemodAdd</th>\n",
       "      <td>0.563423</td>\n",
       "      <td>0.496131</td>\n",
       "      <td>0.235035</td>\n",
       "      <td>NaN</td>\n",
       "    </tr>\n",
       "    <tr>\n",
       "      <th>YrSold</th>\n",
       "      <td>0.029996</td>\n",
       "      <td>0.023219</td>\n",
       "      <td>0.025604</td>\n",
       "      <td>NaN</td>\n",
       "    </tr>\n",
       "  </tbody>\n",
       "</table>\n",
       "</div>"
      ],
      "text/plain": [
       "                          spearman   pearson  Mutual Info  kendells\n",
       "1stFlrSF                  0.575325  0.588855     0.272822       NaN\n",
       "2ndFlrSF                  0.290417  0.318426     0.209548       NaN\n",
       "BedroomAbvGr              0.222692  0.158910     0.078786       NaN\n",
       "BsmtExposure                   NaN       NaN          NaN  0.170830\n",
       "BsmtFinSF1                0.313643  0.386856     0.147956       NaN\n",
       "BsmtFinType1                   NaN       NaN          NaN  0.051452\n",
       "BsmtFullBath              0.249930  0.249969     0.031512       NaN\n",
       "BsmtQual                       NaN       NaN          NaN  0.552495\n",
       "BsmtUnfSF                 0.159894  0.191081     0.127907       NaN\n",
       "ExterQual                      NaN       NaN          NaN  0.560297\n",
       "Exterior1st                    NaN       NaN          NaN  0.043934\n",
       "Exterior2nd                    NaN       NaN          NaN  0.041560\n",
       "FEAT_age_of_house         0.621290  0.493265     0.284300       NaN\n",
       "FEAT_has_remodel          0.090306  0.032770     0.002334       NaN\n",
       "FEAT_pct_bsmt_unfinished  0.125192  0.124686     0.054645       NaN\n",
       "FEAT_pct_lotarea_house    0.005942  0.034699     0.011828       NaN\n",
       "FEAT_ratio_bed_bath       0.532879  0.431177     0.266986       NaN\n",
       "FireplaceQu                    NaN       NaN          NaN  0.406089\n",
       "Fireplaces                0.512001  0.464573     0.179937       NaN\n",
       "Foundation                     NaN       NaN          NaN  0.377827\n",
       "FullBath                  0.618257  0.543254     0.266118       NaN\n",
       "GarageArea                0.647660  0.623871     0.385221       NaN\n",
       "GarageCars                0.694989  0.643922     0.370980       NaN\n",
       "GarageFinish                   NaN       NaN          NaN  0.356350\n",
       "GarageType                     NaN       NaN          NaN  0.414232\n",
       "GarageYrBlt               0.536721  0.440324     0.270272       NaN\n",
       "GrLivArea                 0.720811  0.687534     0.469653       NaN\n",
       "HalfBath                  0.332389  0.287198     0.082514       NaN\n",
       "HeatingQC                      NaN       NaN          NaN  0.376202\n",
       "HouseStyle                     NaN       NaN          NaN  0.177094\n",
       "KitchenQual                    NaN       NaN          NaN  0.552585\n",
       "LotArea                   0.465685  0.263516     0.183962       NaN\n",
       "LotConfig                      NaN       NaN          NaN  0.048874\n",
       "LotFrontage               0.396601  0.355130     0.201248       NaN\n",
       "LotShape                       NaN       NaN          NaN  0.244118\n",
       "MSSubClass                     NaN       NaN          NaN  0.012775\n",
       "MSZoning                       NaN       NaN          NaN  0.268572\n",
       "MasVnrArea                0.401500  0.439390     0.090104       NaN\n",
       "MasVnrType                     NaN       NaN          NaN  0.044613\n",
       "MoSold                         NaN       NaN          NaN  0.049041\n",
       "Neighborhood                   NaN       NaN          NaN  0.100881\n",
       "OpenPorchSF               0.472194  0.322037     0.154019       NaN\n",
       "OverallCond                    NaN       NaN          NaN  0.088878\n",
       "OverallQual                    NaN       NaN          NaN  0.661269\n",
       "RoofStyle                      NaN       NaN          NaN  0.114230\n",
       "SalePrice                      NaN       NaN          NaN  1.000000\n",
       "TotRmsAbvGrd              0.506894  0.526142     0.156947       NaN\n",
       "TotalBsmtSF               0.598535  0.592082     0.343873       NaN\n",
       "WoodDeckSF                0.341776  0.304333     0.095929       NaN\n",
       "YearBuilt                 0.623777  0.493511     0.303436       NaN\n",
       "YearRemodAdd              0.563423  0.496131     0.235035       NaN\n",
       "YrSold                    0.029996  0.023219     0.025604       NaN"
      ]
     },
     "execution_count": 49,
     "metadata": {},
     "output_type": "execute_result"
    }
   ],
   "source": [
    "correlations"
   ]
  },
  {
   "cell_type": "code",
   "execution_count": 50,
   "id": "060d12b5",
   "metadata": {
    "ExecuteTime": {
     "end_time": "2022-06-21T12:53:06.511335Z",
     "start_time": "2022-06-21T12:53:06.214052Z"
    }
   },
   "outputs": [],
   "source": [
    "import os\n",
    "\n",
    "if not os.path.exists('../data/processed'):\n",
    "    os.mkdir('../data/processed')\n",
    "\n",
    "\n",
    "correlations.to_csv('../data/processed/correlations.csv')\n",
    "\n",
    "train_train.to_csv('../data/processed/train_train.csv', index=False)\n",
    "train_test.to_csv('../data/processed/train_test.csv', index=False)\n",
    "test.to_csv('../data/processed/test.csv', index=False)\n"
   ]
  }
 ],
 "metadata": {
  "kernelspec": {
   "display_name": "titanic_venv",
   "language": "python",
   "name": "titanic_venv"
  },
  "language_info": {
   "codemirror_mode": {
    "name": "ipython",
    "version": 3
   },
   "file_extension": ".py",
   "mimetype": "text/x-python",
   "name": "python",
   "nbconvert_exporter": "python",
   "pygments_lexer": "ipython3",
   "version": "3.8.13"
  },
  "toc": {
   "base_numbering": 1,
   "nav_menu": {},
   "number_sections": true,
   "sideBar": true,
   "skip_h1_title": false,
   "title_cell": "Table of Contents",
   "title_sidebar": "Contents",
   "toc_cell": false,
   "toc_position": {
    "height": "calc(100% - 180px)",
    "left": "10px",
    "top": "150px",
    "width": "330px"
   },
   "toc_section_display": true,
   "toc_window_display": true
  }
 },
 "nbformat": 4,
 "nbformat_minor": 5
}
